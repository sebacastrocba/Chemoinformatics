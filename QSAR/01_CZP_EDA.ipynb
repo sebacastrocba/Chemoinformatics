{
 "cells": [
  {
   "cell_type": "markdown",
   "metadata": {},
   "source": [
    "# Construction of a QSAR model for Cruzipain inhibitors\n",
    "\n",
    "## Part 1: Data mining and Exploratory Data Analysis "
   ]
  },
  {
   "cell_type": "markdown",
   "metadata": {},
   "source": [
    "Importings:"
   ]
  },
  {
   "cell_type": "code",
   "execution_count": 1,
   "metadata": {},
   "outputs": [],
   "source": [
    "import pandas as pd\n",
    "import numpy as np\n",
    "import matplotlib.pyplot as plt\n",
    "import seaborn as sns\n",
    "from chembl_webresource_client.new_client import new_client"
   ]
  },
  {
   "cell_type": "markdown",
   "metadata": {},
   "source": [
    "Data mining"
   ]
  },
  {
   "cell_type": "code",
   "execution_count": 2,
   "metadata": {},
   "outputs": [
    {
     "data": {
      "text/html": [
       "<div>\n",
       "<style scoped>\n",
       "    .dataframe tbody tr th:only-of-type {\n",
       "        vertical-align: middle;\n",
       "    }\n",
       "\n",
       "    .dataframe tbody tr th {\n",
       "        vertical-align: top;\n",
       "    }\n",
       "\n",
       "    .dataframe thead th {\n",
       "        text-align: right;\n",
       "    }\n",
       "</style>\n",
       "<table border=\"1\" class=\"dataframe\">\n",
       "  <thead>\n",
       "    <tr style=\"text-align: right;\">\n",
       "      <th></th>\n",
       "      <th>cross_references</th>\n",
       "      <th>organism</th>\n",
       "      <th>pref_name</th>\n",
       "      <th>score</th>\n",
       "      <th>species_group_flag</th>\n",
       "      <th>target_chembl_id</th>\n",
       "      <th>target_components</th>\n",
       "      <th>target_type</th>\n",
       "      <th>tax_id</th>\n",
       "    </tr>\n",
       "  </thead>\n",
       "  <tbody>\n",
       "    <tr>\n",
       "      <th>0</th>\n",
       "      <td>[{'xref_id': 'P25779', 'xref_name': None, 'xre...</td>\n",
       "      <td>Trypanosoma cruzi</td>\n",
       "      <td>Cruzipain</td>\n",
       "      <td>21.0</td>\n",
       "      <td>False</td>\n",
       "      <td>CHEMBL3563</td>\n",
       "      <td>[{'accession': 'P25779', 'component_descriptio...</td>\n",
       "      <td>SINGLE PROTEIN</td>\n",
       "      <td>5693</td>\n",
       "    </tr>\n",
       "  </tbody>\n",
       "</table>\n",
       "</div>"
      ],
      "text/plain": [
       "                                    cross_references           organism  \\\n",
       "0  [{'xref_id': 'P25779', 'xref_name': None, 'xre...  Trypanosoma cruzi   \n",
       "\n",
       "   pref_name  score  species_group_flag target_chembl_id  \\\n",
       "0  Cruzipain   21.0               False       CHEMBL3563   \n",
       "\n",
       "                                   target_components     target_type  tax_id  \n",
       "0  [{'accession': 'P25779', 'component_descriptio...  SINGLE PROTEIN    5693  "
      ]
     },
     "execution_count": 2,
     "metadata": {},
     "output_type": "execute_result"
    }
   ],
   "source": [
    "target = new_client.target\n",
    "target_query = target.search('cruzipain')\n",
    "targets = pd.DataFrame.from_dict(target_query)\n",
    "targets"
   ]
  },
  {
   "cell_type": "code",
   "execution_count": 3,
   "metadata": {},
   "outputs": [
    {
     "data": {
      "text/plain": [
       "'CHEMBL3563'"
      ]
     },
     "execution_count": 3,
     "metadata": {},
     "output_type": "execute_result"
    }
   ],
   "source": [
    "selected_target = targets.target_chembl_id[0]\n",
    "selected_target"
   ]
  },
  {
   "cell_type": "code",
   "execution_count": 4,
   "metadata": {},
   "outputs": [],
   "source": [
    "activity = new_client.activity\n",
    "res = activity.filter(target_chembl_id=selected_target).filter(standard_type= 'IC50')"
   ]
  },
  {
   "cell_type": "code",
   "execution_count": 5,
   "metadata": {},
   "outputs": [
    {
     "data": {
      "text/html": [
       "<div>\n",
       "<style scoped>\n",
       "    .dataframe tbody tr th:only-of-type {\n",
       "        vertical-align: middle;\n",
       "    }\n",
       "\n",
       "    .dataframe tbody tr th {\n",
       "        vertical-align: top;\n",
       "    }\n",
       "\n",
       "    .dataframe thead th {\n",
       "        text-align: right;\n",
       "    }\n",
       "</style>\n",
       "<table border=\"1\" class=\"dataframe\">\n",
       "  <thead>\n",
       "    <tr style=\"text-align: right;\">\n",
       "      <th></th>\n",
       "      <th>activity_comment</th>\n",
       "      <th>activity_id</th>\n",
       "      <th>activity_properties</th>\n",
       "      <th>assay_chembl_id</th>\n",
       "      <th>assay_description</th>\n",
       "      <th>assay_type</th>\n",
       "      <th>bao_endpoint</th>\n",
       "      <th>bao_format</th>\n",
       "      <th>bao_label</th>\n",
       "      <th>canonical_smiles</th>\n",
       "      <th>...</th>\n",
       "      <th>target_organism</th>\n",
       "      <th>target_pref_name</th>\n",
       "      <th>target_tax_id</th>\n",
       "      <th>text_value</th>\n",
       "      <th>toid</th>\n",
       "      <th>type</th>\n",
       "      <th>units</th>\n",
       "      <th>uo_units</th>\n",
       "      <th>upper_value</th>\n",
       "      <th>value</th>\n",
       "    </tr>\n",
       "  </thead>\n",
       "  <tbody>\n",
       "    <tr>\n",
       "      <th>0</th>\n",
       "      <td>None</td>\n",
       "      <td>32722</td>\n",
       "      <td>[]</td>\n",
       "      <td>CHEMBL660279</td>\n",
       "      <td>Inhibitory activity against Trypanosoma cruzi ...</td>\n",
       "      <td>B</td>\n",
       "      <td>BAO_0000190</td>\n",
       "      <td>BAO_0000357</td>\n",
       "      <td>single protein format</td>\n",
       "      <td>C/C(=N\\N=C(\\N)S)c1ccc(Cl)c(Cl)c1</td>\n",
       "      <td>...</td>\n",
       "      <td>Trypanosoma cruzi</td>\n",
       "      <td>Cruzipain</td>\n",
       "      <td>5693</td>\n",
       "      <td>None</td>\n",
       "      <td>None</td>\n",
       "      <td>IC50</td>\n",
       "      <td>nM</td>\n",
       "      <td>UO_0000065</td>\n",
       "      <td>None</td>\n",
       "      <td>50.0</td>\n",
       "    </tr>\n",
       "    <tr>\n",
       "      <th>1</th>\n",
       "      <td>None</td>\n",
       "      <td>32724</td>\n",
       "      <td>[]</td>\n",
       "      <td>CHEMBL660279</td>\n",
       "      <td>Inhibitory activity against Trypanosoma cruzi ...</td>\n",
       "      <td>B</td>\n",
       "      <td>BAO_0000190</td>\n",
       "      <td>BAO_0000357</td>\n",
       "      <td>single protein format</td>\n",
       "      <td>C/C(=N\\NC(N)=O)c1cccc(Cl)c1</td>\n",
       "      <td>...</td>\n",
       "      <td>Trypanosoma cruzi</td>\n",
       "      <td>Cruzipain</td>\n",
       "      <td>5693</td>\n",
       "      <td>None</td>\n",
       "      <td>None</td>\n",
       "      <td>IC50</td>\n",
       "      <td>uM</td>\n",
       "      <td>UO_0000065</td>\n",
       "      <td>None</td>\n",
       "      <td>10.0</td>\n",
       "    </tr>\n",
       "    <tr>\n",
       "      <th>2</th>\n",
       "      <td>None</td>\n",
       "      <td>33952</td>\n",
       "      <td>[]</td>\n",
       "      <td>CHEMBL660279</td>\n",
       "      <td>Inhibitory activity against Trypanosoma cruzi ...</td>\n",
       "      <td>B</td>\n",
       "      <td>BAO_0000190</td>\n",
       "      <td>BAO_0000357</td>\n",
       "      <td>single protein format</td>\n",
       "      <td>CC/C(=N\\N=C(/S)NC)c1cccc(Br)c1</td>\n",
       "      <td>...</td>\n",
       "      <td>Trypanosoma cruzi</td>\n",
       "      <td>Cruzipain</td>\n",
       "      <td>5693</td>\n",
       "      <td>None</td>\n",
       "      <td>None</td>\n",
       "      <td>IC50</td>\n",
       "      <td>uM</td>\n",
       "      <td>UO_0000065</td>\n",
       "      <td>None</td>\n",
       "      <td>10.0</td>\n",
       "    </tr>\n",
       "    <tr>\n",
       "      <th>3</th>\n",
       "      <td>None</td>\n",
       "      <td>33953</td>\n",
       "      <td>[]</td>\n",
       "      <td>CHEMBL660279</td>\n",
       "      <td>Inhibitory activity against Trypanosoma cruzi ...</td>\n",
       "      <td>B</td>\n",
       "      <td>BAO_0000190</td>\n",
       "      <td>BAO_0000357</td>\n",
       "      <td>single protein format</td>\n",
       "      <td>S=C(Nc1cccc(Cl)c1)N1CCC(c2cccc(Br)c2)=N1</td>\n",
       "      <td>...</td>\n",
       "      <td>Trypanosoma cruzi</td>\n",
       "      <td>Cruzipain</td>\n",
       "      <td>5693</td>\n",
       "      <td>None</td>\n",
       "      <td>None</td>\n",
       "      <td>IC50</td>\n",
       "      <td>nM</td>\n",
       "      <td>UO_0000065</td>\n",
       "      <td>None</td>\n",
       "      <td>1000.0</td>\n",
       "    </tr>\n",
       "    <tr>\n",
       "      <th>4</th>\n",
       "      <td>None</td>\n",
       "      <td>33955</td>\n",
       "      <td>[]</td>\n",
       "      <td>CHEMBL660279</td>\n",
       "      <td>Inhibitory activity against Trypanosoma cruzi ...</td>\n",
       "      <td>B</td>\n",
       "      <td>BAO_0000190</td>\n",
       "      <td>BAO_0000357</td>\n",
       "      <td>single protein format</td>\n",
       "      <td>CCC(N/N=C(/N)S)c1cccc(Br)c1</td>\n",
       "      <td>...</td>\n",
       "      <td>Trypanosoma cruzi</td>\n",
       "      <td>Cruzipain</td>\n",
       "      <td>5693</td>\n",
       "      <td>None</td>\n",
       "      <td>None</td>\n",
       "      <td>IC50</td>\n",
       "      <td>uM</td>\n",
       "      <td>UO_0000065</td>\n",
       "      <td>None</td>\n",
       "      <td>10.0</td>\n",
       "    </tr>\n",
       "  </tbody>\n",
       "</table>\n",
       "<p>5 rows × 43 columns</p>\n",
       "</div>"
      ],
      "text/plain": [
       "  activity_comment  activity_id activity_properties assay_chembl_id  \\\n",
       "0             None        32722                  []    CHEMBL660279   \n",
       "1             None        32724                  []    CHEMBL660279   \n",
       "2             None        33952                  []    CHEMBL660279   \n",
       "3             None        33953                  []    CHEMBL660279   \n",
       "4             None        33955                  []    CHEMBL660279   \n",
       "\n",
       "                                   assay_description assay_type bao_endpoint  \\\n",
       "0  Inhibitory activity against Trypanosoma cruzi ...          B  BAO_0000190   \n",
       "1  Inhibitory activity against Trypanosoma cruzi ...          B  BAO_0000190   \n",
       "2  Inhibitory activity against Trypanosoma cruzi ...          B  BAO_0000190   \n",
       "3  Inhibitory activity against Trypanosoma cruzi ...          B  BAO_0000190   \n",
       "4  Inhibitory activity against Trypanosoma cruzi ...          B  BAO_0000190   \n",
       "\n",
       "    bao_format              bao_label  \\\n",
       "0  BAO_0000357  single protein format   \n",
       "1  BAO_0000357  single protein format   \n",
       "2  BAO_0000357  single protein format   \n",
       "3  BAO_0000357  single protein format   \n",
       "4  BAO_0000357  single protein format   \n",
       "\n",
       "                           canonical_smiles  ...    target_organism  \\\n",
       "0          C/C(=N\\N=C(\\N)S)c1ccc(Cl)c(Cl)c1  ...  Trypanosoma cruzi   \n",
       "1               C/C(=N\\NC(N)=O)c1cccc(Cl)c1  ...  Trypanosoma cruzi   \n",
       "2            CC/C(=N\\N=C(/S)NC)c1cccc(Br)c1  ...  Trypanosoma cruzi   \n",
       "3  S=C(Nc1cccc(Cl)c1)N1CCC(c2cccc(Br)c2)=N1  ...  Trypanosoma cruzi   \n",
       "4               CCC(N/N=C(/N)S)c1cccc(Br)c1  ...  Trypanosoma cruzi   \n",
       "\n",
       "  target_pref_name target_tax_id text_value  toid  type units    uo_units  \\\n",
       "0        Cruzipain          5693       None  None  IC50    nM  UO_0000065   \n",
       "1        Cruzipain          5693       None  None  IC50    uM  UO_0000065   \n",
       "2        Cruzipain          5693       None  None  IC50    uM  UO_0000065   \n",
       "3        Cruzipain          5693       None  None  IC50    nM  UO_0000065   \n",
       "4        Cruzipain          5693       None  None  IC50    uM  UO_0000065   \n",
       "\n",
       "  upper_value   value  \n",
       "0        None    50.0  \n",
       "1        None    10.0  \n",
       "2        None    10.0  \n",
       "3        None  1000.0  \n",
       "4        None    10.0  \n",
       "\n",
       "[5 rows x 43 columns]"
      ]
     },
     "execution_count": 5,
     "metadata": {},
     "output_type": "execute_result"
    }
   ],
   "source": [
    "df = pd.DataFrame.from_dict(res)\n",
    "df.head()"
   ]
  },
  {
   "cell_type": "code",
   "execution_count": 6,
   "metadata": {},
   "outputs": [
    {
     "name": "stdout",
     "output_type": "stream",
     "text": [
      "<class 'pandas.core.frame.DataFrame'>\n",
      "RangeIndex: 840 entries, 0 to 839\n",
      "Data columns (total 43 columns):\n",
      " #   Column                     Non-Null Count  Dtype \n",
      "---  ------                     --------------  ----- \n",
      " 0   activity_comment           118 non-null    object\n",
      " 1   activity_id                840 non-null    int64 \n",
      " 2   activity_properties        840 non-null    object\n",
      " 3   assay_chembl_id            840 non-null    object\n",
      " 4   assay_description          840 non-null    object\n",
      " 5   assay_type                 840 non-null    object\n",
      " 6   bao_endpoint               840 non-null    object\n",
      " 7   bao_format                 840 non-null    object\n",
      " 8   bao_label                  840 non-null    object\n",
      " 9   canonical_smiles           840 non-null    object\n",
      " 10  data_validity_comment      86 non-null     object\n",
      " 11  data_validity_description  86 non-null     object\n",
      " 12  document_chembl_id         840 non-null    object\n",
      " 13  document_journal           840 non-null    object\n",
      " 14  document_year              840 non-null    int64 \n",
      " 15  ligand_efficiency          460 non-null    object\n",
      " 16  molecule_chembl_id         840 non-null    object\n",
      " 17  molecule_pref_name         66 non-null     object\n",
      " 18  parent_molecule_chembl_id  840 non-null    object\n",
      " 19  pchembl_value              460 non-null    object\n",
      " 20  potential_duplicate        840 non-null    bool  \n",
      " 21  qudt_units                 722 non-null    object\n",
      " 22  record_id                  840 non-null    int64 \n",
      " 23  relation                   722 non-null    object\n",
      " 24  src_id                     840 non-null    int64 \n",
      " 25  standard_flag              840 non-null    bool  \n",
      " 26  standard_relation          722 non-null    object\n",
      " 27  standard_text_value        0 non-null      object\n",
      " 28  standard_type              840 non-null    object\n",
      " 29  standard_units             722 non-null    object\n",
      " 30  standard_upper_value       0 non-null      object\n",
      " 31  standard_value             722 non-null    object\n",
      " 32  target_chembl_id           840 non-null    object\n",
      " 33  target_organism            840 non-null    object\n",
      " 34  target_pref_name           840 non-null    object\n",
      " 35  target_tax_id              840 non-null    object\n",
      " 36  text_value                 0 non-null      object\n",
      " 37  toid                       0 non-null      object\n",
      " 38  type                       840 non-null    object\n",
      " 39  units                      706 non-null    object\n",
      " 40  uo_units                   722 non-null    object\n",
      " 41  upper_value                0 non-null      object\n",
      " 42  value                      722 non-null    object\n",
      "dtypes: bool(2), int64(4), object(37)\n",
      "memory usage: 270.8+ KB\n"
     ]
    }
   ],
   "source": [
    "df.info()"
   ]
  },
  {
   "cell_type": "markdown",
   "metadata": {},
   "source": [
    "The dataset contains 840 compounds that inhibit CZP and 40 features."
   ]
  },
  {
   "cell_type": "code",
   "execution_count": 7,
   "metadata": {},
   "outputs": [
    {
     "data": {
      "text/plain": [
       "array(['IC50'], dtype=object)"
      ]
     },
     "execution_count": 7,
     "metadata": {},
     "output_type": "execute_result"
    }
   ],
   "source": [
    "df.standard_type.unique()"
   ]
  },
  {
   "cell_type": "code",
   "execution_count": 8,
   "metadata": {},
   "outputs": [
    {
     "data": {
      "text/plain": [
       "array(['nM', None], dtype=object)"
      ]
     },
     "execution_count": 8,
     "metadata": {},
     "output_type": "execute_result"
    }
   ],
   "source": [
    "df.standard_units.unique()"
   ]
  },
  {
   "cell_type": "code",
   "execution_count": 9,
   "metadata": {},
   "outputs": [
    {
     "data": {
      "text/plain": [
       "118"
      ]
     },
     "execution_count": 9,
     "metadata": {},
     "output_type": "execute_result"
    }
   ],
   "source": [
    "df.standard_value.isna().sum()"
   ]
  },
  {
   "cell_type": "markdown",
   "metadata": {},
   "source": [
    "Biological activity assays results are expresed as IC50 and 'nM' as unique unit."
   ]
  },
  {
   "cell_type": "code",
   "execution_count": 10,
   "metadata": {},
   "outputs": [
    {
     "name": "stdout",
     "output_type": "stream",
     "text": [
      "There are 191 duplicated compounds\n"
     ]
    }
   ],
   "source": [
    "duplicated_compounds = df.duplicated(subset='molecule_chembl_id', keep='first').sum()\n",
    "print('There are', duplicated_compounds, 'duplicated compounds')"
   ]
  },
  {
   "cell_type": "code",
   "execution_count": 11,
   "metadata": {},
   "outputs": [],
   "source": [
    "#Duplicated compounds are eliminated\n",
    "df.drop_duplicates(subset=['molecule_chembl_id'], inplace=True)"
   ]
  },
  {
   "cell_type": "code",
   "execution_count": 12,
   "metadata": {},
   "outputs": [
    {
     "name": "stdout",
     "output_type": "stream",
     "text": [
      "Total number of compounds: 649\n"
     ]
    }
   ],
   "source": [
    "print('Total number of compounds:', len(df))"
   ]
  },
  {
   "cell_type": "code",
   "execution_count": 13,
   "metadata": {},
   "outputs": [],
   "source": [
    "#Dtype correction for standard_value feature\n",
    "df['standard_value'] = df['standard_value'].apply(pd.to_numeric)"
   ]
  },
  {
   "cell_type": "code",
   "execution_count": 14,
   "metadata": {},
   "outputs": [
    {
     "name": "stdout",
     "output_type": "stream",
     "text": [
      "There are 103 compounds without bioactivity value\n"
     ]
    }
   ],
   "source": [
    "nulos = df['standard_value'].isnull().sum()\n",
    "print('There are', nulos, 'compounds without bioactivity value')"
   ]
  },
  {
   "cell_type": "code",
   "execution_count": 15,
   "metadata": {},
   "outputs": [],
   "source": [
    "#We select those compounds with bioactivity data informed\n",
    "df2 = df[df.standard_value.notna()]\n",
    "df2 = df2.reset_index(drop=True)"
   ]
  },
  {
   "cell_type": "code",
   "execution_count": 16,
   "metadata": {},
   "outputs": [],
   "source": [
    "#We select those features that are important for our objective\n",
    "selection = ['molecule_chembl_id', 'canonical_smiles', 'standard_value']\n",
    "df3 = df2[selection]\n",
    "df3 = df3.reset_index(drop=True)"
   ]
  },
  {
   "cell_type": "code",
   "execution_count": 17,
   "metadata": {},
   "outputs": [
    {
     "data": {
      "text/html": [
       "<div>\n",
       "<style scoped>\n",
       "    .dataframe tbody tr th:only-of-type {\n",
       "        vertical-align: middle;\n",
       "    }\n",
       "\n",
       "    .dataframe tbody tr th {\n",
       "        vertical-align: top;\n",
       "    }\n",
       "\n",
       "    .dataframe thead th {\n",
       "        text-align: right;\n",
       "    }\n",
       "</style>\n",
       "<table border=\"1\" class=\"dataframe\">\n",
       "  <thead>\n",
       "    <tr style=\"text-align: right;\">\n",
       "      <th></th>\n",
       "      <th>molecule_chembl_id</th>\n",
       "      <th>canonical_smiles</th>\n",
       "      <th>standard_value</th>\n",
       "    </tr>\n",
       "  </thead>\n",
       "  <tbody>\n",
       "    <tr>\n",
       "      <th>0</th>\n",
       "      <td>CHEMBL90512</td>\n",
       "      <td>C/C(=N\\N=C(\\N)S)c1ccc(Cl)c(Cl)c1</td>\n",
       "      <td>50.0</td>\n",
       "    </tr>\n",
       "    <tr>\n",
       "      <th>1</th>\n",
       "      <td>CHEMBL327902</td>\n",
       "      <td>C/C(=N\\NC(N)=O)c1cccc(Cl)c1</td>\n",
       "      <td>10000.0</td>\n",
       "    </tr>\n",
       "    <tr>\n",
       "      <th>2</th>\n",
       "      <td>CHEMBL88307</td>\n",
       "      <td>CC/C(=N\\N=C(/S)NC)c1cccc(Br)c1</td>\n",
       "      <td>10000.0</td>\n",
       "    </tr>\n",
       "    <tr>\n",
       "      <th>3</th>\n",
       "      <td>CHEMBL90475</td>\n",
       "      <td>S=C(Nc1cccc(Cl)c1)N1CCC(c2cccc(Br)c2)=N1</td>\n",
       "      <td>1000.0</td>\n",
       "    </tr>\n",
       "    <tr>\n",
       "      <th>4</th>\n",
       "      <td>CHEMBL90371</td>\n",
       "      <td>CCC(N/N=C(/N)S)c1cccc(Br)c1</td>\n",
       "      <td>10000.0</td>\n",
       "    </tr>\n",
       "  </tbody>\n",
       "</table>\n",
       "</div>"
      ],
      "text/plain": [
       "  molecule_chembl_id                          canonical_smiles  standard_value\n",
       "0        CHEMBL90512          C/C(=N\\N=C(\\N)S)c1ccc(Cl)c(Cl)c1            50.0\n",
       "1       CHEMBL327902               C/C(=N\\NC(N)=O)c1cccc(Cl)c1         10000.0\n",
       "2        CHEMBL88307            CC/C(=N\\N=C(/S)NC)c1cccc(Br)c1         10000.0\n",
       "3        CHEMBL90475  S=C(Nc1cccc(Cl)c1)N1CCC(c2cccc(Br)c2)=N1          1000.0\n",
       "4        CHEMBL90371               CCC(N/N=C(/N)S)c1cccc(Br)c1         10000.0"
      ]
     },
     "execution_count": 17,
     "metadata": {},
     "output_type": "execute_result"
    }
   ],
   "source": [
    "df3.head()"
   ]
  },
  {
   "cell_type": "code",
   "execution_count": 41,
   "metadata": {},
   "outputs": [
    {
     "data": {
      "image/png": "[encoded data removed]",
      "text/plain": [
       "<Figure size 432x288 with 1 Axes>"
      ]
     },
     "metadata": {
      "needs_background": "light"
     },
     "output_type": "display_data"
    }
   ],
   "source": [
    "#Histogram\n",
    "sns.distplot(df3['standard_value'], kde=False)\n",
    "plt.title('Standard value histogram')\n",
    "plt.xlabel('IC50 (nM)')\n",
    "plt.savefig('histogramczinhibidores.png')\n",
    "plt.show()"
   ]
  },
  {
   "cell_type": "code",
   "execution_count": 19,
   "metadata": {},
   "outputs": [
    {
     "data": {
      "text/plain": [
       "count    5.460000e+02\n",
       "mean     1.787761e+13\n",
       "std      2.416714e+14\n",
       "min      1.000000e-01\n",
       "25%      6.475000e+02\n",
       "50%      1.000000e+04\n",
       "75%      4.075000e+04\n",
       "max      5.011872e+15\n",
       "Name: standard_value, dtype: float64"
      ]
     },
     "execution_count": 19,
     "metadata": {},
     "output_type": "execute_result"
    }
   ],
   "source": [
    "df3.standard_value.describe()"
   ]
  },
  {
   "cell_type": "code",
   "execution_count": null,
   "metadata": {},
   "outputs": [],
   "source": []
  },
  {
   "cell_type": "code",
   "execution_count": 20,
   "metadata": {},
   "outputs": [],
   "source": [
    "#Compound classification \n",
    "bioactivity_class = []\n",
    "for i in df2.standard_value:\n",
    "  if float(i) > 10000:\n",
    "    bioactivity_class.append(\"inactive\")\n",
    "  elif float(i) <= 10000:\n",
    "    bioactivity_class.append(\"active\")"
   ]
  },
  {
   "cell_type": "code",
   "execution_count": 21,
   "metadata": {},
   "outputs": [],
   "source": [
    "df3['bioactivity_class'] = bioactivity_class"
   ]
  },
  {
   "cell_type": "code",
   "execution_count": 22,
   "metadata": {},
   "outputs": [
    {
     "data": {
      "text/html": [
       "<div>\n",
       "<style scoped>\n",
       "    .dataframe tbody tr th:only-of-type {\n",
       "        vertical-align: middle;\n",
       "    }\n",
       "\n",
       "    .dataframe tbody tr th {\n",
       "        vertical-align: top;\n",
       "    }\n",
       "\n",
       "    .dataframe thead th {\n",
       "        text-align: right;\n",
       "    }\n",
       "</style>\n",
       "<table border=\"1\" class=\"dataframe\">\n",
       "  <thead>\n",
       "    <tr style=\"text-align: right;\">\n",
       "      <th></th>\n",
       "      <th>molecule_chembl_id</th>\n",
       "      <th>canonical_smiles</th>\n",
       "      <th>standard_value</th>\n",
       "      <th>bioactivity_class</th>\n",
       "    </tr>\n",
       "  </thead>\n",
       "  <tbody>\n",
       "    <tr>\n",
       "      <th>0</th>\n",
       "      <td>CHEMBL90512</td>\n",
       "      <td>C/C(=N\\N=C(\\N)S)c1ccc(Cl)c(Cl)c1</td>\n",
       "      <td>50.0</td>\n",
       "      <td>active</td>\n",
       "    </tr>\n",
       "    <tr>\n",
       "      <th>1</th>\n",
       "      <td>CHEMBL327902</td>\n",
       "      <td>C/C(=N\\NC(N)=O)c1cccc(Cl)c1</td>\n",
       "      <td>10000.0</td>\n",
       "      <td>active</td>\n",
       "    </tr>\n",
       "    <tr>\n",
       "      <th>2</th>\n",
       "      <td>CHEMBL88307</td>\n",
       "      <td>CC/C(=N\\N=C(/S)NC)c1cccc(Br)c1</td>\n",
       "      <td>10000.0</td>\n",
       "      <td>active</td>\n",
       "    </tr>\n",
       "    <tr>\n",
       "      <th>3</th>\n",
       "      <td>CHEMBL90475</td>\n",
       "      <td>S=C(Nc1cccc(Cl)c1)N1CCC(c2cccc(Br)c2)=N1</td>\n",
       "      <td>1000.0</td>\n",
       "      <td>active</td>\n",
       "    </tr>\n",
       "    <tr>\n",
       "      <th>4</th>\n",
       "      <td>CHEMBL90371</td>\n",
       "      <td>CCC(N/N=C(/N)S)c1cccc(Br)c1</td>\n",
       "      <td>10000.0</td>\n",
       "      <td>active</td>\n",
       "    </tr>\n",
       "  </tbody>\n",
       "</table>\n",
       "</div>"
      ],
      "text/plain": [
       "  molecule_chembl_id                          canonical_smiles  \\\n",
       "0        CHEMBL90512          C/C(=N\\N=C(\\N)S)c1ccc(Cl)c(Cl)c1   \n",
       "1       CHEMBL327902               C/C(=N\\NC(N)=O)c1cccc(Cl)c1   \n",
       "2        CHEMBL88307            CC/C(=N\\N=C(/S)NC)c1cccc(Br)c1   \n",
       "3        CHEMBL90475  S=C(Nc1cccc(Cl)c1)N1CCC(c2cccc(Br)c2)=N1   \n",
       "4        CHEMBL90371               CCC(N/N=C(/N)S)c1cccc(Br)c1   \n",
       "\n",
       "   standard_value bioactivity_class  \n",
       "0            50.0            active  \n",
       "1         10000.0            active  \n",
       "2         10000.0            active  \n",
       "3          1000.0            active  \n",
       "4         10000.0            active  "
      ]
     },
     "execution_count": 22,
     "metadata": {},
     "output_type": "execute_result"
    }
   ],
   "source": [
    "df3.head()"
   ]
  },
  {
   "cell_type": "code",
   "execution_count": 43,
   "metadata": {},
   "outputs": [
    {
     "data": {
      "image/png": "[encoded data removed]",
      "text/plain": [
       "<Figure size 396x396 with 1 Axes>"
      ]
     },
     "metadata": {
      "needs_background": "light"
     },
     "output_type": "display_data"
    }
   ],
   "source": [
    "plt.figure(figsize=(5.5, 5.5))\n",
    "\n",
    "sns.countplot(x='bioactivity_class', data=df3, edgecolor='black')\n",
    "\n",
    "plt.xlabel('Bioactivity class', fontsize=14, fontweight='bold')\n",
    "plt.ylabel('Frequency', fontsize=14, fontweight='bold')\n",
    "plt.savefig('plot_bioactivity_class_cz.png')"
   ]
  },
  {
   "cell_type": "code",
   "execution_count": 24,
   "metadata": {},
   "outputs": [
    {
     "data": {
      "text/html": [
       "<div>\n",
       "<style scoped>\n",
       "    .dataframe tbody tr th:only-of-type {\n",
       "        vertical-align: middle;\n",
       "    }\n",
       "\n",
       "    .dataframe tbody tr th {\n",
       "        vertical-align: top;\n",
       "    }\n",
       "\n",
       "    .dataframe thead th {\n",
       "        text-align: right;\n",
       "    }\n",
       "</style>\n",
       "<table border=\"1\" class=\"dataframe\">\n",
       "  <thead>\n",
       "    <tr style=\"text-align: right;\">\n",
       "      <th></th>\n",
       "      <th>molecule_chembl_id</th>\n",
       "      <th>canonical_smiles</th>\n",
       "      <th>standard_value</th>\n",
       "    </tr>\n",
       "    <tr>\n",
       "      <th>bioactivity_class</th>\n",
       "      <th></th>\n",
       "      <th></th>\n",
       "      <th></th>\n",
       "    </tr>\n",
       "  </thead>\n",
       "  <tbody>\n",
       "    <tr>\n",
       "      <th>active</th>\n",
       "      <td>319</td>\n",
       "      <td>319</td>\n",
       "      <td>319</td>\n",
       "    </tr>\n",
       "    <tr>\n",
       "      <th>inactive</th>\n",
       "      <td>227</td>\n",
       "      <td>227</td>\n",
       "      <td>227</td>\n",
       "    </tr>\n",
       "  </tbody>\n",
       "</table>\n",
       "</div>"
      ],
      "text/plain": [
       "                   molecule_chembl_id  canonical_smiles  standard_value\n",
       "bioactivity_class                                                      \n",
       "active                            319               319             319\n",
       "inactive                          227               227             227"
      ]
     },
     "execution_count": 24,
     "metadata": {},
     "output_type": "execute_result"
    }
   ],
   "source": [
    "df3.groupby('bioactivity_class').count()"
   ]
  },
  {
   "cell_type": "code",
   "execution_count": 25,
   "metadata": {},
   "outputs": [
    {
     "name": "stdout",
     "output_type": "stream",
     "text": [
      "Porcentaje de moléculas activas: 58.42\n",
      "Porcentaje de moléculas inactivas: 41.58\n",
      "Total de compuestos: 546\n"
     ]
    }
   ],
   "source": [
    "total = 319+227\n",
    "a = (319/total)*100\n",
    "i = (227/total)*100\n",
    "print('Porcentaje de moléculas activas:',round(a,2))\n",
    "print('Porcentaje de moléculas inactivas:', round(i,2))\n",
    "print('Total de compuestos:', total)"
   ]
  },
  {
   "cell_type": "code",
   "execution_count": 46,
   "metadata": {},
   "outputs": [
    {
     "data": {
      "image/png": "[encoded data removed]",
      "text/plain": [
       "<Figure size 432x288 with 1 Axes>"
      ]
     },
     "metadata": {
      "needs_background": "light"
     },
     "output_type": "display_data"
    }
   ],
   "source": [
    "#Boxplot\n",
    "sns.boxplot(data = df3, x= 'standard_value', y='bioactivity_class', palette='colorblind')\n",
    "plt.title('Standard value boxplot', fontweight='bold')\n",
    "plt.xlabel('IC50 (nM)', fontweight='bold')\n",
    "plt.ylabel('Bioactivity class', fontweight='bold')\n",
    "plt.savefig('boxplotinhibidorescz.png')\n",
    "plt.show()"
   ]
  },
  {
   "cell_type": "code",
   "execution_count": 27,
   "metadata": {},
   "outputs": [],
   "source": [
    "#Normalizar\n",
    "def norm_value(input):\n",
    "    norm = []\n",
    "\n",
    "    for i in input['standard_value']:\n",
    "        if i > 100000000:\n",
    "          i = 100000000\n",
    "        norm.append(i)\n",
    "\n",
    "    input['standard_value_norm'] = norm\n",
    "    x = input.drop('standard_value', 1)\n",
    "        \n",
    "    return x"
   ]
  },
  {
   "cell_type": "code",
   "execution_count": 28,
   "metadata": {},
   "outputs": [],
   "source": [
    "df4 = norm_value(df3)"
   ]
  },
  {
   "cell_type": "code",
   "execution_count": 29,
   "metadata": {},
   "outputs": [],
   "source": [
    "#Outliers\n",
    "\n",
    "def remove_outliers(dfx):\n",
    "    q1 = dfx.quantile(0.25)\n",
    "    q3 = dfx.quantile(0.75)\n",
    "    iqr = q3 - q1\n",
    "    cut_off = iqr*1.5\n",
    "    \n",
    "    df_filtred = dfx[~((dfx < (dfx.quantile(0.25) - cut_off)) | (dfx > (dfx.quantile(0.75) + cut_off))).any(axis=1)]\n",
    "       \n",
    "    return df_filtred"
   ]
  },
  {
   "cell_type": "code",
   "execution_count": 30,
   "metadata": {},
   "outputs": [],
   "source": [
    "#df4 = remove_outliers(df3)"
   ]
  },
  {
   "cell_type": "code",
   "execution_count": 31,
   "metadata": {},
   "outputs": [
    {
     "data": {
      "text/plain": [
       "Text(0, 0.5, 'Bioactivity class')"
      ]
     },
     "execution_count": 31,
     "metadata": {},
     "output_type": "execute_result"
    },
    {
     "data": {
      "image/png": "[encoded data removed]",
      "text/plain": [
       "<Figure size 432x288 with 1 Axes>"
      ]
     },
     "metadata": {
      "needs_background": "light"
     },
     "output_type": "display_data"
    }
   ],
   "source": [
    "#Boxplot\n",
    "sns.boxplot(data = df4, x= 'standard_value_norm', y='bioactivity_class', palette='colorblind')\n",
    "plt.title('Standard value boxplot', fontweight='bold')\n",
    "plt.xlabel('IC50 (nM)', fontweight='bold')\n",
    "plt.ylabel('Bioactivity class', fontweight='bold')\n",
    "plt.savefig('boxplotnormalizado.png')\n",
    "plt.show()"
   ]
  },
  {
   "cell_type": "code",
   "execution_count": 32,
   "metadata": {},
   "outputs": [
    {
     "data": {
      "text/html": [
       "<div>\n",
       "<style scoped>\n",
       "    .dataframe tbody tr th:only-of-type {\n",
       "        vertical-align: middle;\n",
       "    }\n",
       "\n",
       "    .dataframe tbody tr th {\n",
       "        vertical-align: top;\n",
       "    }\n",
       "\n",
       "    .dataframe thead th {\n",
       "        text-align: right;\n",
       "    }\n",
       "</style>\n",
       "<table border=\"1\" class=\"dataframe\">\n",
       "  <thead>\n",
       "    <tr style=\"text-align: right;\">\n",
       "      <th></th>\n",
       "      <th>standard_value_norm</th>\n",
       "    </tr>\n",
       "  </thead>\n",
       "  <tbody>\n",
       "    <tr>\n",
       "      <th>count</th>\n",
       "      <td>5.460000e+02</td>\n",
       "    </tr>\n",
       "    <tr>\n",
       "      <th>mean</th>\n",
       "      <td>2.982352e+06</td>\n",
       "    </tr>\n",
       "    <tr>\n",
       "      <th>std</th>\n",
       "      <td>1.687772e+07</td>\n",
       "    </tr>\n",
       "    <tr>\n",
       "      <th>min</th>\n",
       "      <td>1.000000e-01</td>\n",
       "    </tr>\n",
       "    <tr>\n",
       "      <th>25%</th>\n",
       "      <td>6.475000e+02</td>\n",
       "    </tr>\n",
       "    <tr>\n",
       "      <th>50%</th>\n",
       "      <td>1.000000e+04</td>\n",
       "    </tr>\n",
       "    <tr>\n",
       "      <th>75%</th>\n",
       "      <td>4.075000e+04</td>\n",
       "    </tr>\n",
       "    <tr>\n",
       "      <th>max</th>\n",
       "      <td>1.000000e+08</td>\n",
       "    </tr>\n",
       "  </tbody>\n",
       "</table>\n",
       "</div>"
      ],
      "text/plain": [
       "       standard_value_norm\n",
       "count         5.460000e+02\n",
       "mean          2.982352e+06\n",
       "std           1.687772e+07\n",
       "min           1.000000e-01\n",
       "25%           6.475000e+02\n",
       "50%           1.000000e+04\n",
       "75%           4.075000e+04\n",
       "max           1.000000e+08"
      ]
     },
     "execution_count": 32,
     "metadata": {},
     "output_type": "execute_result"
    }
   ],
   "source": [
    "df4.describe()"
   ]
  },
  {
   "cell_type": "code",
   "execution_count": 33,
   "metadata": {},
   "outputs": [],
   "source": [
    "df4.to_csv('CZP_bioactivity_preprocessed_data.csv', index=False)"
   ]
  },
  {
   "cell_type": "code",
   "execution_count": 45,
   "metadata": {},
   "outputs": [
    {
     "data": {
      "image/png": "[encoded data removed]",
      "text/plain": [
       "<Figure size 432x288 with 1 Axes>"
      ]
     },
     "metadata": {
      "needs_background": "light"
     },
     "output_type": "display_data"
    }
   ],
   "source": [
    "#Histogram\n",
    "sns.distplot(df4['standard_value_norm'], kde=False)\n",
    "plt.title('Standard value histogram')\n",
    "plt.xlabel('IC50 (nM)')\n",
    "plt.savefig('histograma_raw.png')"
   ]
  },
  {
   "cell_type": "markdown",
   "metadata": {},
   "source": [
    "# PubChem Database"
   ]
  },
  {
   "cell_type": "code",
   "execution_count": 35,
   "metadata": {},
   "outputs": [],
   "source": [
    "pubchem = pd.read_csv(r'/home/seba/Documentos/Postdoc/databases/PubChem/CompuestosCruzipaina_PubchemDB.csv')"
   ]
  },
  {
   "cell_type": "code",
   "execution_count": 36,
   "metadata": {},
   "outputs": [
    {
     "data": {
      "text/html": [
       "<div>\n",
       "<style scoped>\n",
       "    .dataframe tbody tr th:only-of-type {\n",
       "        vertical-align: middle;\n",
       "    }\n",
       "\n",
       "    .dataframe tbody tr th {\n",
       "        vertical-align: top;\n",
       "    }\n",
       "\n",
       "    .dataframe thead th {\n",
       "        text-align: right;\n",
       "    }\n",
       "</style>\n",
       "<table border=\"1\" class=\"dataframe\">\n",
       "  <thead>\n",
       "    <tr style=\"text-align: right;\">\n",
       "      <th></th>\n",
       "      <th>baid</th>\n",
       "      <th>activity</th>\n",
       "      <th>aid</th>\n",
       "      <th>sid</th>\n",
       "      <th>mid</th>\n",
       "      <th>cid</th>\n",
       "      <th>geneid</th>\n",
       "      <th>taxid</th>\n",
       "      <th>pmid</th>\n",
       "      <th>aidtype</th>\n",
       "      <th>...</th>\n",
       "      <th>acname</th>\n",
       "      <th>acvalue</th>\n",
       "      <th>aidsrcname</th>\n",
       "      <th>aidname</th>\n",
       "      <th>cmpdname</th>\n",
       "      <th>targetname</th>\n",
       "      <th>targeturl</th>\n",
       "      <th>dois</th>\n",
       "      <th>ecs</th>\n",
       "      <th>repacxn</th>\n",
       "    </tr>\n",
       "  </thead>\n",
       "  <tbody>\n",
       "    <tr>\n",
       "      <th>0</th>\n",
       "      <td>97465927</td>\n",
       "      <td>Active</td>\n",
       "      <td>51390</td>\n",
       "      <td>103300887</td>\n",
       "      <td>0</td>\n",
       "      <td>9965377</td>\n",
       "      <td>NaN</td>\n",
       "      <td>5693</td>\n",
       "      <td>12061873.0</td>\n",
       "      <td>Confirmatory</td>\n",
       "      <td>...</td>\n",
       "      <td>IC50</td>\n",
       "      <td>0.05</td>\n",
       "      <td>ChEMBL</td>\n",
       "      <td>Inhibitory activity against Trypanosoma cruzi ...</td>\n",
       "      <td>[(E)-1-[3-(Trifluoromethyl)phenyl]propylidenea...</td>\n",
       "      <td>Cruzipain (Trypanosoma cruzi)</td>\n",
       "      <td>/protein/P25779</td>\n",
       "      <td>10.1021/jm010459j</td>\n",
       "      <td>3.4.22.51</td>\n",
       "      <td>P25779</td>\n",
       "    </tr>\n",
       "    <tr>\n",
       "      <th>1</th>\n",
       "      <td>97465930</td>\n",
       "      <td>Active</td>\n",
       "      <td>51390</td>\n",
       "      <td>103300978</td>\n",
       "      <td>0</td>\n",
       "      <td>9580972</td>\n",
       "      <td>NaN</td>\n",
       "      <td>5693</td>\n",
       "      <td>12061873.0</td>\n",
       "      <td>Confirmatory</td>\n",
       "      <td>...</td>\n",
       "      <td>IC50</td>\n",
       "      <td>0.48</td>\n",
       "      <td>ChEMBL</td>\n",
       "      <td>Inhibitory activity against Trypanosoma cruzi ...</td>\n",
       "      <td>(2E)-2-[3-(Trifluoromethyl)benzylidene]hydrazi...</td>\n",
       "      <td>Cruzipain (Trypanosoma cruzi)</td>\n",
       "      <td>/protein/P25779</td>\n",
       "      <td>10.1021/jm010459j</td>\n",
       "      <td>3.4.22.51</td>\n",
       "      <td>P25779</td>\n",
       "    </tr>\n",
       "    <tr>\n",
       "      <th>2</th>\n",
       "      <td>97465934</td>\n",
       "      <td>Active</td>\n",
       "      <td>51390</td>\n",
       "      <td>103301266</td>\n",
       "      <td>0</td>\n",
       "      <td>9971885</td>\n",
       "      <td>NaN</td>\n",
       "      <td>5693</td>\n",
       "      <td>12061873.0</td>\n",
       "      <td>Confirmatory</td>\n",
       "      <td>...</td>\n",
       "      <td>IC50</td>\n",
       "      <td>0.08</td>\n",
       "      <td>ChEMBL</td>\n",
       "      <td>Inhibitory activity against Trypanosoma cruzi ...</td>\n",
       "      <td>3-(3-Bromophenyl)-4-methyl-2-pyrazoline-1-thio...</td>\n",
       "      <td>Cruzipain (Trypanosoma cruzi)</td>\n",
       "      <td>/protein/P25779</td>\n",
       "      <td>10.1021/jm010459j</td>\n",
       "      <td>3.4.22.51</td>\n",
       "      <td>P25779</td>\n",
       "    </tr>\n",
       "    <tr>\n",
       "      <th>3</th>\n",
       "      <td>97465935</td>\n",
       "      <td>Active</td>\n",
       "      <td>51390</td>\n",
       "      <td>103301291</td>\n",
       "      <td>0</td>\n",
       "      <td>5412428</td>\n",
       "      <td>NaN</td>\n",
       "      <td>5693</td>\n",
       "      <td>12061873.0</td>\n",
       "      <td>Confirmatory</td>\n",
       "      <td>...</td>\n",
       "      <td>IC50</td>\n",
       "      <td>3.80</td>\n",
       "      <td>ChEMBL</td>\n",
       "      <td>Inhibitory activity against Trypanosoma cruzi ...</td>\n",
       "      <td>[(E)-1-(5-Bromothiophen-2-yl)ethylideneamino]t...</td>\n",
       "      <td>Cruzipain (Trypanosoma cruzi)</td>\n",
       "      <td>/protein/P25779</td>\n",
       "      <td>10.1021/jm010459j</td>\n",
       "      <td>3.4.22.51</td>\n",
       "      <td>P25779</td>\n",
       "    </tr>\n",
       "    <tr>\n",
       "      <th>4</th>\n",
       "      <td>97465937</td>\n",
       "      <td>Active</td>\n",
       "      <td>51390</td>\n",
       "      <td>103301423</td>\n",
       "      <td>0</td>\n",
       "      <td>6875577</td>\n",
       "      <td>NaN</td>\n",
       "      <td>5693</td>\n",
       "      <td>12061873.0</td>\n",
       "      <td>Confirmatory</td>\n",
       "      <td>...</td>\n",
       "      <td>IC50</td>\n",
       "      <td>0.56</td>\n",
       "      <td>ChEMBL</td>\n",
       "      <td>Inhibitory activity against Trypanosoma cruzi ...</td>\n",
       "      <td>2-Methoxy-1-naphthaldehyde thiosemicarbazone</td>\n",
       "      <td>Cruzipain (Trypanosoma cruzi)</td>\n",
       "      <td>/protein/P25779</td>\n",
       "      <td>10.1021/jm010459j</td>\n",
       "      <td>3.4.22.51</td>\n",
       "      <td>P25779</td>\n",
       "    </tr>\n",
       "  </tbody>\n",
       "</table>\n",
       "<p>5 rows × 24 columns</p>\n",
       "</div>"
      ],
      "text/plain": [
       "       baid activity    aid        sid  mid      cid  geneid  taxid  \\\n",
       "0  97465927   Active  51390  103300887    0  9965377     NaN   5693   \n",
       "1  97465930   Active  51390  103300978    0  9580972     NaN   5693   \n",
       "2  97465934   Active  51390  103301266    0  9971885     NaN   5693   \n",
       "3  97465935   Active  51390  103301291    0  5412428     NaN   5693   \n",
       "4  97465937   Active  51390  103301423    0  6875577     NaN   5693   \n",
       "\n",
       "         pmid       aidtype  ...  acname  acvalue  aidsrcname  \\\n",
       "0  12061873.0  Confirmatory  ...    IC50     0.05      ChEMBL   \n",
       "1  12061873.0  Confirmatory  ...    IC50     0.48      ChEMBL   \n",
       "2  12061873.0  Confirmatory  ...    IC50     0.08      ChEMBL   \n",
       "3  12061873.0  Confirmatory  ...    IC50     3.80      ChEMBL   \n",
       "4  12061873.0  Confirmatory  ...    IC50     0.56      ChEMBL   \n",
       "\n",
       "                                             aidname  \\\n",
       "0  Inhibitory activity against Trypanosoma cruzi ...   \n",
       "1  Inhibitory activity against Trypanosoma cruzi ...   \n",
       "2  Inhibitory activity against Trypanosoma cruzi ...   \n",
       "3  Inhibitory activity against Trypanosoma cruzi ...   \n",
       "4  Inhibitory activity against Trypanosoma cruzi ...   \n",
       "\n",
       "                                            cmpdname  \\\n",
       "0  [(E)-1-[3-(Trifluoromethyl)phenyl]propylidenea...   \n",
       "1  (2E)-2-[3-(Trifluoromethyl)benzylidene]hydrazi...   \n",
       "2  3-(3-Bromophenyl)-4-methyl-2-pyrazoline-1-thio...   \n",
       "3  [(E)-1-(5-Bromothiophen-2-yl)ethylideneamino]t...   \n",
       "4       2-Methoxy-1-naphthaldehyde thiosemicarbazone   \n",
       "\n",
       "                      targetname        targeturl               dois  \\\n",
       "0  Cruzipain (Trypanosoma cruzi)  /protein/P25779  10.1021/jm010459j   \n",
       "1  Cruzipain (Trypanosoma cruzi)  /protein/P25779  10.1021/jm010459j   \n",
       "2  Cruzipain (Trypanosoma cruzi)  /protein/P25779  10.1021/jm010459j   \n",
       "3  Cruzipain (Trypanosoma cruzi)  /protein/P25779  10.1021/jm010459j   \n",
       "4  Cruzipain (Trypanosoma cruzi)  /protein/P25779  10.1021/jm010459j   \n",
       "\n",
       "         ecs repacxn  \n",
       "0  3.4.22.51  P25779  \n",
       "1  3.4.22.51  P25779  \n",
       "2  3.4.22.51  P25779  \n",
       "3  3.4.22.51  P25779  \n",
       "4  3.4.22.51  P25779  \n",
       "\n",
       "[5 rows x 24 columns]"
      ]
     },
     "execution_count": 36,
     "metadata": {},
     "output_type": "execute_result"
    }
   ],
   "source": [
    "pubchem.head()"
   ]
  },
  {
   "cell_type": "code",
   "execution_count": 37,
   "metadata": {},
   "outputs": [
    {
     "data": {
      "text/plain": [
       "Text(0, 0.5, 'Frequency')"
      ]
     },
     "execution_count": 37,
     "metadata": {},
     "output_type": "execute_result"
    },
    {
     "data": {
      "image/png": "[encoded data removed]",
      "text/plain": [
       "<Figure size 396x396 with 1 Axes>"
      ]
     },
     "metadata": {
      "needs_background": "light"
     },
     "output_type": "display_data"
    }
   ],
   "source": [
    "plt.figure(figsize=(5.5, 5.5))\n",
    "\n",
    "sns.countplot(x='activity', data=pubchem, edgecolor='black')\n",
    "\n",
    "plt.xlabel('Bioactivity class', fontsize=14, fontweight='bold')\n",
    "plt.ylabel('Frequency', fontsize=14, fontweight='bold')\n",
    "#plt.savefig('plot_bioactivity_class.png')"
   ]
  },
  {
   "cell_type": "code",
   "execution_count": 38,
   "metadata": {},
   "outputs": [],
   "source": [
    "df_pubchem = pubchem[['baid','activity', 'acname', 'acvalue']]"
   ]
  },
  {
   "cell_type": "code",
   "execution_count": 39,
   "metadata": {},
   "outputs": [],
   "source": [
    "mask = (pubchem.activity == 'Unspecified')"
   ]
  },
  {
   "cell_type": "code",
   "execution_count": 40,
   "metadata": {},
   "outputs": [
    {
     "data": {
      "text/html": [
       "<div>\n",
       "<style scoped>\n",
       "    .dataframe tbody tr th:only-of-type {\n",
       "        vertical-align: middle;\n",
       "    }\n",
       "\n",
       "    .dataframe tbody tr th {\n",
       "        vertical-align: top;\n",
       "    }\n",
       "\n",
       "    .dataframe thead th {\n",
       "        text-align: right;\n",
       "    }\n",
       "</style>\n",
       "<table border=\"1\" class=\"dataframe\">\n",
       "  <thead>\n",
       "    <tr style=\"text-align: right;\">\n",
       "      <th></th>\n",
       "      <th>baid</th>\n",
       "      <th>activity</th>\n",
       "      <th>aid</th>\n",
       "      <th>sid</th>\n",
       "      <th>mid</th>\n",
       "      <th>cid</th>\n",
       "      <th>geneid</th>\n",
       "      <th>taxid</th>\n",
       "      <th>pmid</th>\n",
       "      <th>aidtype</th>\n",
       "      <th>...</th>\n",
       "      <th>acname</th>\n",
       "      <th>acvalue</th>\n",
       "      <th>aidsrcname</th>\n",
       "      <th>aidname</th>\n",
       "      <th>cmpdname</th>\n",
       "      <th>targetname</th>\n",
       "      <th>targeturl</th>\n",
       "      <th>dois</th>\n",
       "      <th>ecs</th>\n",
       "      <th>repacxn</th>\n",
       "    </tr>\n",
       "  </thead>\n",
       "  <tbody>\n",
       "    <tr>\n",
       "      <th>888</th>\n",
       "      <td>97465923</td>\n",
       "      <td>Unspecified</td>\n",
       "      <td>51390</td>\n",
       "      <td>103300471</td>\n",
       "      <td>0</td>\n",
       "      <td>10989825</td>\n",
       "      <td>NaN</td>\n",
       "      <td>5693</td>\n",
       "      <td>12061873.0</td>\n",
       "      <td>Confirmatory</td>\n",
       "      <td>...</td>\n",
       "      <td>IC50</td>\n",
       "      <td>10.0</td>\n",
       "      <td>ChEMBL</td>\n",
       "      <td>Inhibitory activity against Trypanosoma cruzi ...</td>\n",
       "      <td>[(E)-1-(6-Methoxynaphthalen-2-yl)propylideneam...</td>\n",
       "      <td>Cruzipain (Trypanosoma cruzi)</td>\n",
       "      <td>/protein/P25779</td>\n",
       "      <td>10.1021/jm010459j</td>\n",
       "      <td>3.4.22.51</td>\n",
       "      <td>P25779</td>\n",
       "    </tr>\n",
       "    <tr>\n",
       "      <th>889</th>\n",
       "      <td>97465924</td>\n",
       "      <td>Unspecified</td>\n",
       "      <td>51390</td>\n",
       "      <td>103300614</td>\n",
       "      <td>0</td>\n",
       "      <td>10870240</td>\n",
       "      <td>NaN</td>\n",
       "      <td>5693</td>\n",
       "      <td>12061873.0</td>\n",
       "      <td>Confirmatory</td>\n",
       "      <td>...</td>\n",
       "      <td>IC50</td>\n",
       "      <td>10.0</td>\n",
       "      <td>ChEMBL</td>\n",
       "      <td>Inhibitory activity against Trypanosoma cruzi ...</td>\n",
       "      <td>5-(3-Bromophenyl)-N-methyl-3,4-dihydropyrazole...</td>\n",
       "      <td>Cruzipain (Trypanosoma cruzi)</td>\n",
       "      <td>/protein/P25779</td>\n",
       "      <td>10.1021/jm010459j</td>\n",
       "      <td>3.4.22.51</td>\n",
       "      <td>P25779</td>\n",
       "    </tr>\n",
       "    <tr>\n",
       "      <th>890</th>\n",
       "      <td>97465926</td>\n",
       "      <td>Unspecified</td>\n",
       "      <td>51390</td>\n",
       "      <td>103300644</td>\n",
       "      <td>0</td>\n",
       "      <td>11068551</td>\n",
       "      <td>NaN</td>\n",
       "      <td>5693</td>\n",
       "      <td>12061873.0</td>\n",
       "      <td>Confirmatory</td>\n",
       "      <td>...</td>\n",
       "      <td>IC50</td>\n",
       "      <td>10.0</td>\n",
       "      <td>ChEMBL</td>\n",
       "      <td>Inhibitory activity against Trypanosoma cruzi ...</td>\n",
       "      <td>1-[(E)-1-(3-Bromophenyl)propylideneamino]-3-(f...</td>\n",
       "      <td>Cruzipain (Trypanosoma cruzi)</td>\n",
       "      <td>/protein/P25779</td>\n",
       "      <td>10.1021/jm010459j</td>\n",
       "      <td>3.4.22.51</td>\n",
       "      <td>P25779</td>\n",
       "    </tr>\n",
       "    <tr>\n",
       "      <th>891</th>\n",
       "      <td>97465928</td>\n",
       "      <td>Unspecified</td>\n",
       "      <td>51390</td>\n",
       "      <td>103300921</td>\n",
       "      <td>0</td>\n",
       "      <td>9563572</td>\n",
       "      <td>NaN</td>\n",
       "      <td>5693</td>\n",
       "      <td>12061873.0</td>\n",
       "      <td>Confirmatory</td>\n",
       "      <td>...</td>\n",
       "      <td>IC50</td>\n",
       "      <td>10.0</td>\n",
       "      <td>ChEMBL</td>\n",
       "      <td>Inhibitory activity against Trypanosoma cruzi ...</td>\n",
       "      <td>({[5-(4-Chlorophenyl)furan-2-yl]methylidene}am...</td>\n",
       "      <td>Cruzipain (Trypanosoma cruzi)</td>\n",
       "      <td>/protein/P25779</td>\n",
       "      <td>10.1021/jm010459j</td>\n",
       "      <td>3.4.22.51</td>\n",
       "      <td>P25779</td>\n",
       "    </tr>\n",
       "    <tr>\n",
       "      <th>892</th>\n",
       "      <td>97465929</td>\n",
       "      <td>Unspecified</td>\n",
       "      <td>51390</td>\n",
       "      <td>103300939</td>\n",
       "      <td>0</td>\n",
       "      <td>11064119</td>\n",
       "      <td>NaN</td>\n",
       "      <td>5693</td>\n",
       "      <td>12061873.0</td>\n",
       "      <td>Confirmatory</td>\n",
       "      <td>...</td>\n",
       "      <td>IC50</td>\n",
       "      <td>10.0</td>\n",
       "      <td>ChEMBL</td>\n",
       "      <td>Inhibitory activity against Trypanosoma cruzi ...</td>\n",
       "      <td>[(E)-1-(3-Chlorophenyl)propylideneamino]urea</td>\n",
       "      <td>Cruzipain (Trypanosoma cruzi)</td>\n",
       "      <td>/protein/P25779</td>\n",
       "      <td>10.1021/jm010459j</td>\n",
       "      <td>3.4.22.51</td>\n",
       "      <td>P25779</td>\n",
       "    </tr>\n",
       "    <tr>\n",
       "      <th>...</th>\n",
       "      <td>...</td>\n",
       "      <td>...</td>\n",
       "      <td>...</td>\n",
       "      <td>...</td>\n",
       "      <td>...</td>\n",
       "      <td>...</td>\n",
       "      <td>...</td>\n",
       "      <td>...</td>\n",
       "      <td>...</td>\n",
       "      <td>...</td>\n",
       "      <td>...</td>\n",
       "      <td>...</td>\n",
       "      <td>...</td>\n",
       "      <td>...</td>\n",
       "      <td>...</td>\n",
       "      <td>...</td>\n",
       "      <td>...</td>\n",
       "      <td>...</td>\n",
       "      <td>...</td>\n",
       "      <td>...</td>\n",
       "      <td>...</td>\n",
       "    </tr>\n",
       "    <tr>\n",
       "      <th>1922</th>\n",
       "      <td>460857598</td>\n",
       "      <td>Unspecified</td>\n",
       "      <td>1508566</td>\n",
       "      <td>404656443</td>\n",
       "      <td>0</td>\n",
       "      <td>145952609</td>\n",
       "      <td>NaN</td>\n",
       "      <td>5693</td>\n",
       "      <td>29031078.0</td>\n",
       "      <td>Literature-derived</td>\n",
       "      <td>...</td>\n",
       "      <td>NaN</td>\n",
       "      <td>NaN</td>\n",
       "      <td>ChEMBL</td>\n",
       "      <td>Inhibition of recombinant Trypanosoma cruzi cr...</td>\n",
       "      <td>N-[(E)-1-(3,4-Dichlorophenyl)ethylideneamino]-...</td>\n",
       "      <td>Cruzipain (Trypanosoma cruzi)</td>\n",
       "      <td>/protein/P25779</td>\n",
       "      <td>10.1016/j.ejmech.2017.09.047</td>\n",
       "      <td>3.4.22.51</td>\n",
       "      <td>P25779</td>\n",
       "    </tr>\n",
       "    <tr>\n",
       "      <th>1923</th>\n",
       "      <td>460857601</td>\n",
       "      <td>Unspecified</td>\n",
       "      <td>1508566</td>\n",
       "      <td>404667233</td>\n",
       "      <td>0</td>\n",
       "      <td>145960071</td>\n",
       "      <td>NaN</td>\n",
       "      <td>5693</td>\n",
       "      <td>29031078.0</td>\n",
       "      <td>Literature-derived</td>\n",
       "      <td>...</td>\n",
       "      <td>NaN</td>\n",
       "      <td>NaN</td>\n",
       "      <td>ChEMBL</td>\n",
       "      <td>Inhibition of recombinant Trypanosoma cruzi cr...</td>\n",
       "      <td>N-[(E)-1-(3,4-Dichlorophenyl)ethylideneamino]-...</td>\n",
       "      <td>Cruzipain (Trypanosoma cruzi)</td>\n",
       "      <td>/protein/P25779</td>\n",
       "      <td>10.1016/j.ejmech.2017.09.047</td>\n",
       "      <td>3.4.22.51</td>\n",
       "      <td>P25779</td>\n",
       "    </tr>\n",
       "    <tr>\n",
       "      <th>1924</th>\n",
       "      <td>460857603</td>\n",
       "      <td>Unspecified</td>\n",
       "      <td>1508566</td>\n",
       "      <td>404663044</td>\n",
       "      <td>0</td>\n",
       "      <td>145957153</td>\n",
       "      <td>NaN</td>\n",
       "      <td>5693</td>\n",
       "      <td>29031078.0</td>\n",
       "      <td>Literature-derived</td>\n",
       "      <td>...</td>\n",
       "      <td>NaN</td>\n",
       "      <td>NaN</td>\n",
       "      <td>ChEMBL</td>\n",
       "      <td>Inhibition of recombinant Trypanosoma cruzi cr...</td>\n",
       "      <td>N-[(E)-1-(3,4-Dichlorophenyl)ethylideneamino]-...</td>\n",
       "      <td>Cruzipain (Trypanosoma cruzi)</td>\n",
       "      <td>/protein/P25779</td>\n",
       "      <td>10.1016/j.ejmech.2017.09.047</td>\n",
       "      <td>3.4.22.51</td>\n",
       "      <td>P25779</td>\n",
       "    </tr>\n",
       "    <tr>\n",
       "      <th>1925</th>\n",
       "      <td>460857605</td>\n",
       "      <td>Unspecified</td>\n",
       "      <td>1508566</td>\n",
       "      <td>404683775</td>\n",
       "      <td>0</td>\n",
       "      <td>145971226</td>\n",
       "      <td>NaN</td>\n",
       "      <td>5693</td>\n",
       "      <td>29031078.0</td>\n",
       "      <td>Literature-derived</td>\n",
       "      <td>...</td>\n",
       "      <td>NaN</td>\n",
       "      <td>NaN</td>\n",
       "      <td>ChEMBL</td>\n",
       "      <td>Inhibition of recombinant Trypanosoma cruzi cr...</td>\n",
       "      <td>N-[(E)-1-(3,4-Dichlorophenyl)ethylideneamino]-...</td>\n",
       "      <td>Cruzipain (Trypanosoma cruzi)</td>\n",
       "      <td>/protein/P25779</td>\n",
       "      <td>10.1016/j.ejmech.2017.09.047</td>\n",
       "      <td>3.4.22.51</td>\n",
       "      <td>P25779</td>\n",
       "    </tr>\n",
       "    <tr>\n",
       "      <th>1926</th>\n",
       "      <td>460857609</td>\n",
       "      <td>Unspecified</td>\n",
       "      <td>1508566</td>\n",
       "      <td>404686306</td>\n",
       "      <td>0</td>\n",
       "      <td>145972928</td>\n",
       "      <td>NaN</td>\n",
       "      <td>5693</td>\n",
       "      <td>29031078.0</td>\n",
       "      <td>Literature-derived</td>\n",
       "      <td>...</td>\n",
       "      <td>NaN</td>\n",
       "      <td>NaN</td>\n",
       "      <td>ChEMBL</td>\n",
       "      <td>Inhibition of recombinant Trypanosoma cruzi cr...</td>\n",
       "      <td>N-[(E)-1-(3,4-Dichlorophenyl)ethylideneamino]-...</td>\n",
       "      <td>Cruzipain (Trypanosoma cruzi)</td>\n",
       "      <td>/protein/P25779</td>\n",
       "      <td>10.1016/j.ejmech.2017.09.047</td>\n",
       "      <td>3.4.22.51</td>\n",
       "      <td>P25779</td>\n",
       "    </tr>\n",
       "  </tbody>\n",
       "</table>\n",
       "<p>1039 rows × 24 columns</p>\n",
       "</div>"
      ],
      "text/plain": [
       "           baid     activity      aid        sid  mid        cid  geneid  \\\n",
       "888    97465923  Unspecified    51390  103300471    0   10989825     NaN   \n",
       "889    97465924  Unspecified    51390  103300614    0   10870240     NaN   \n",
       "890    97465926  Unspecified    51390  103300644    0   11068551     NaN   \n",
       "891    97465928  Unspecified    51390  103300921    0    9563572     NaN   \n",
       "892    97465929  Unspecified    51390  103300939    0   11064119     NaN   \n",
       "...         ...          ...      ...        ...  ...        ...     ...   \n",
       "1922  460857598  Unspecified  1508566  404656443    0  145952609     NaN   \n",
       "1923  460857601  Unspecified  1508566  404667233    0  145960071     NaN   \n",
       "1924  460857603  Unspecified  1508566  404663044    0  145957153     NaN   \n",
       "1925  460857605  Unspecified  1508566  404683775    0  145971226     NaN   \n",
       "1926  460857609  Unspecified  1508566  404686306    0  145972928     NaN   \n",
       "\n",
       "      taxid        pmid             aidtype  ...  acname  acvalue  aidsrcname  \\\n",
       "888    5693  12061873.0        Confirmatory  ...    IC50     10.0      ChEMBL   \n",
       "889    5693  12061873.0        Confirmatory  ...    IC50     10.0      ChEMBL   \n",
       "890    5693  12061873.0        Confirmatory  ...    IC50     10.0      ChEMBL   \n",
       "891    5693  12061873.0        Confirmatory  ...    IC50     10.0      ChEMBL   \n",
       "892    5693  12061873.0        Confirmatory  ...    IC50     10.0      ChEMBL   \n",
       "...     ...         ...                 ...  ...     ...      ...         ...   \n",
       "1922   5693  29031078.0  Literature-derived  ...     NaN      NaN      ChEMBL   \n",
       "1923   5693  29031078.0  Literature-derived  ...     NaN      NaN      ChEMBL   \n",
       "1924   5693  29031078.0  Literature-derived  ...     NaN      NaN      ChEMBL   \n",
       "1925   5693  29031078.0  Literature-derived  ...     NaN      NaN      ChEMBL   \n",
       "1926   5693  29031078.0  Literature-derived  ...     NaN      NaN      ChEMBL   \n",
       "\n",
       "                                                aidname  \\\n",
       "888   Inhibitory activity against Trypanosoma cruzi ...   \n",
       "889   Inhibitory activity against Trypanosoma cruzi ...   \n",
       "890   Inhibitory activity against Trypanosoma cruzi ...   \n",
       "891   Inhibitory activity against Trypanosoma cruzi ...   \n",
       "892   Inhibitory activity against Trypanosoma cruzi ...   \n",
       "...                                                 ...   \n",
       "1922  Inhibition of recombinant Trypanosoma cruzi cr...   \n",
       "1923  Inhibition of recombinant Trypanosoma cruzi cr...   \n",
       "1924  Inhibition of recombinant Trypanosoma cruzi cr...   \n",
       "1925  Inhibition of recombinant Trypanosoma cruzi cr...   \n",
       "1926  Inhibition of recombinant Trypanosoma cruzi cr...   \n",
       "\n",
       "                                               cmpdname  \\\n",
       "888   [(E)-1-(6-Methoxynaphthalen-2-yl)propylideneam...   \n",
       "889   5-(3-Bromophenyl)-N-methyl-3,4-dihydropyrazole...   \n",
       "890   1-[(E)-1-(3-Bromophenyl)propylideneamino]-3-(f...   \n",
       "891   ({[5-(4-Chlorophenyl)furan-2-yl]methylidene}am...   \n",
       "892        [(E)-1-(3-Chlorophenyl)propylideneamino]urea   \n",
       "...                                                 ...   \n",
       "1922  N-[(E)-1-(3,4-Dichlorophenyl)ethylideneamino]-...   \n",
       "1923  N-[(E)-1-(3,4-Dichlorophenyl)ethylideneamino]-...   \n",
       "1924  N-[(E)-1-(3,4-Dichlorophenyl)ethylideneamino]-...   \n",
       "1925  N-[(E)-1-(3,4-Dichlorophenyl)ethylideneamino]-...   \n",
       "1926  N-[(E)-1-(3,4-Dichlorophenyl)ethylideneamino]-...   \n",
       "\n",
       "                         targetname        targeturl  \\\n",
       "888   Cruzipain (Trypanosoma cruzi)  /protein/P25779   \n",
       "889   Cruzipain (Trypanosoma cruzi)  /protein/P25779   \n",
       "890   Cruzipain (Trypanosoma cruzi)  /protein/P25779   \n",
       "891   Cruzipain (Trypanosoma cruzi)  /protein/P25779   \n",
       "892   Cruzipain (Trypanosoma cruzi)  /protein/P25779   \n",
       "...                             ...              ...   \n",
       "1922  Cruzipain (Trypanosoma cruzi)  /protein/P25779   \n",
       "1923  Cruzipain (Trypanosoma cruzi)  /protein/P25779   \n",
       "1924  Cruzipain (Trypanosoma cruzi)  /protein/P25779   \n",
       "1925  Cruzipain (Trypanosoma cruzi)  /protein/P25779   \n",
       "1926  Cruzipain (Trypanosoma cruzi)  /protein/P25779   \n",
       "\n",
       "                              dois        ecs repacxn  \n",
       "888              10.1021/jm010459j  3.4.22.51  P25779  \n",
       "889              10.1021/jm010459j  3.4.22.51  P25779  \n",
       "890              10.1021/jm010459j  3.4.22.51  P25779  \n",
       "891              10.1021/jm010459j  3.4.22.51  P25779  \n",
       "892              10.1021/jm010459j  3.4.22.51  P25779  \n",
       "...                            ...        ...     ...  \n",
       "1922  10.1016/j.ejmech.2017.09.047  3.4.22.51  P25779  \n",
       "1923  10.1016/j.ejmech.2017.09.047  3.4.22.51  P25779  \n",
       "1924  10.1016/j.ejmech.2017.09.047  3.4.22.51  P25779  \n",
       "1925  10.1016/j.ejmech.2017.09.047  3.4.22.51  P25779  \n",
       "1926  10.1016/j.ejmech.2017.09.047  3.4.22.51  P25779  \n",
       "\n",
       "[1039 rows x 24 columns]"
      ]
     },
     "execution_count": 40,
     "metadata": {},
     "output_type": "execute_result"
    }
   ],
   "source": [
    "pubchem[mask]"
   ]
  }
 ],
 "metadata": {
  "kernelspec": {
   "display_name": "Python 3",
   "language": "python",
   "name": "python3"
  },
  "language_info": {
   "codemirror_mode": {
    "name": "ipython",
    "version": 3
   },
   "file_extension": ".py",
   "mimetype": "text/x-python",
   "name": "python",
   "nbconvert_exporter": "python",
   "pygments_lexer": "ipython3",
   "version": "3.7.7"
  }
 },
 "nbformat": 4,
 "nbformat_minor": 4
}
