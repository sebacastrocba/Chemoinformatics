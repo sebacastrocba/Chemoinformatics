{
 "cells": [
  {
   "cell_type": "markdown",
   "metadata": {},
   "source": [
    "# Building a QSAR model for Cruzipain (CZP)\n",
    "\n",
    "## Part 3: Clasification Models"
   ]
  },
  {
   "cell_type": "code",
   "execution_count": 30,
   "metadata": {},
   "outputs": [],
   "source": [
    "import numpy as np\n",
    "import pandas as pd\n",
    "import matplotlib.pyplot as plt\n",
    "import seaborn as sns\n",
    "from sklearn.preprocessing import StandardScaler\n",
    "from sklearn.preprocessing import MinMaxScaler\n",
    "from sklearn.model_selection import train_test_split, GridSearchCV\n",
    "from sklearn.model_selection import cross_val_score\n",
    "from sklearn.model_selection import RandomizedSearchCV\n",
    "from sklearn import pipeline\n",
    "from sklearn.ensemble import ExtraTreesClassifier\n",
    "from sklearn.ensemble import RandomForestClassifier\n",
    "from sklearn.metrics import classification_report, confusion_matrix\n",
    "from sklearn.metrics import accuracy_score, matthews_corrcoef\n",
    "import xgboost as xgb\n",
    "import optuna\n",
    "from optuna import Trial, visualization\n",
    "from optuna.samplers import TPESampler\n",
    "from sklearn.model_selection import RepeatedStratifiedKFold"
   ]
  },
  {
   "cell_type": "markdown",
   "metadata": {},
   "source": [
    "#### Datasets"
   ]
  },
  {
   "cell_type": "markdown",
   "metadata": {},
   "source": [
    "Tenemos 7 dataset para trabajar con distintos tipos de descriptores"
   ]
  },
  {
   "cell_type": "code",
   "execution_count": 2,
   "metadata": {},
   "outputs": [],
   "source": [
    "rdkit = pd.read_csv('CZP_bioactivity_preprocessed_data_RDKit_2D.csv') # Dataset descriptores en 2D de RDKit\n",
    "#maccs = pd.read_csv('CZP_maccs.csv') # Dataset con maccs keys\n",
    "#ecfp4 = pd.read_csv('CZP_ecfp4.csv') # Dataset con Morgan fingerprints radio 2\n",
    "#ecfp6 = pd.read_csv('CZP_ecfp6.csv') # Dataset con Morgan fingerprints radio 3\n",
    "#fcfp4 = pd.read_csv('CZP_fcfp4.csv') # Dataset con FeatMorgan fingerprints radio 2\n",
    "#fcfp6 = pd.read_csv('CZP_fcfp6.csv') # Dataset con FeatMorgan fingerprints radio 3\n",
    "#padel = pd.read_csv('CZP_padeldesc.csv') # Dataset con Padel Descriptors"
   ]
  },
  {
   "cell_type": "markdown",
   "metadata": {},
   "source": [
    "#### RDKit 2D Descriptors Preprocesing"
   ]
  },
  {
   "cell_type": "code",
   "execution_count": 3,
   "metadata": {},
   "outputs": [],
   "source": [
    "rdkit.drop(['molecule_chembl_id', 'canonical_smiles','pIC50'], axis=1, inplace=True)"
   ]
  },
  {
   "cell_type": "code",
   "execution_count": 4,
   "metadata": {},
   "outputs": [
    {
     "data": {
      "text/plain": [
       "(546, 201)"
      ]
     },
     "execution_count": 4,
     "metadata": {},
     "output_type": "execute_result"
    }
   ],
   "source": [
    "rdkit.shape"
   ]
  },
  {
   "cell_type": "code",
   "execution_count": 5,
   "metadata": {},
   "outputs": [],
   "source": [
    "cor_matrix = rdkit.corr().abs()"
   ]
  },
  {
   "cell_type": "code",
   "execution_count": 6,
   "metadata": {},
   "outputs": [],
   "source": [
    "upper_tri = cor_matrix.where(np.triu(np.ones(cor_matrix.shape),k=1).astype(np.bool))"
   ]
  },
  {
   "cell_type": "code",
   "execution_count": 7,
   "metadata": {},
   "outputs": [
    {
     "name": "stdout",
     "output_type": "stream",
     "text": [
      "\n",
      "['MaxAbsEStateIndex', 'HeavyAtomMolWt', 'ExactMolWt', 'NumValenceElectrons', 'FpDensityMorgan2', 'Chi0', 'Chi0n', 'Chi0v', 'Chi1', 'Chi1n', 'Chi1v', 'Chi2n', 'Chi2v', 'Chi3n', 'Chi3v', 'Chi4n', 'Chi4v', 'Kappa1', 'Kappa2', 'LabuteASA', 'HeavyAtomCount', 'MolMR', 'fr_COO2', 'fr_C_O_noCOO', 'fr_Nhpyrrole', 'fr_benzene', 'fr_nitro_arom', 'fr_phenol', 'fr_phenol_noOrthoHbond']\n"
     ]
    }
   ],
   "source": [
    "to_drop = [column for column in upper_tri.columns if any(upper_tri[column] > 0.95)]\n",
    "print()\n",
    "print(to_drop)"
   ]
  },
  {
   "cell_type": "code",
   "execution_count": 8,
   "metadata": {},
   "outputs": [],
   "source": [
    "rdkit2 = rdkit.drop(to_drop, axis=1)"
   ]
  },
  {
   "cell_type": "code",
   "execution_count": 9,
   "metadata": {},
   "outputs": [
    {
     "data": {
      "text/plain": [
       "(546, 172)"
      ]
     },
     "execution_count": 9,
     "metadata": {},
     "output_type": "execute_result"
    }
   ],
   "source": [
    "rdkit2.shape"
   ]
  },
  {
   "cell_type": "code",
   "execution_count": 10,
   "metadata": {},
   "outputs": [],
   "source": [
    "bio_mapping = {'active': 0, 'inactive': 1}\n",
    "rdkit2.bioactivity_class = rdkit2['bioactivity_class'].map(bio_mapping)"
   ]
  },
  {
   "cell_type": "code",
   "execution_count": 11,
   "metadata": {},
   "outputs": [
    {
     "data": {
      "text/html": [
       "<div>\n",
       "<style scoped>\n",
       "    .dataframe tbody tr th:only-of-type {\n",
       "        vertical-align: middle;\n",
       "    }\n",
       "\n",
       "    .dataframe tbody tr th {\n",
       "        vertical-align: top;\n",
       "    }\n",
       "\n",
       "    .dataframe thead th {\n",
       "        text-align: right;\n",
       "    }\n",
       "</style>\n",
       "<table border=\"1\" class=\"dataframe\">\n",
       "  <thead>\n",
       "    <tr style=\"text-align: right;\">\n",
       "      <th></th>\n",
       "      <th>bioactivity_class</th>\n",
       "      <th>MaxEStateIndex</th>\n",
       "      <th>MinEStateIndex</th>\n",
       "      <th>MinAbsEStateIndex</th>\n",
       "      <th>qed</th>\n",
       "      <th>MolWt</th>\n",
       "      <th>NumRadicalElectrons</th>\n",
       "      <th>MaxPartialCharge</th>\n",
       "      <th>MinPartialCharge</th>\n",
       "      <th>MaxAbsPartialCharge</th>\n",
       "      <th>...</th>\n",
       "      <th>fr_sulfide</th>\n",
       "      <th>fr_sulfonamd</th>\n",
       "      <th>fr_sulfone</th>\n",
       "      <th>fr_term_acetylene</th>\n",
       "      <th>fr_tetrazole</th>\n",
       "      <th>fr_thiazole</th>\n",
       "      <th>fr_thiocyan</th>\n",
       "      <th>fr_thiophene</th>\n",
       "      <th>fr_unbrch_alkane</th>\n",
       "      <th>fr_urea</th>\n",
       "    </tr>\n",
       "  </thead>\n",
       "  <tbody>\n",
       "    <tr>\n",
       "      <th>count</th>\n",
       "      <td>546.000000</td>\n",
       "      <td>546.000000</td>\n",
       "      <td>546.000000</td>\n",
       "      <td>546.000000</td>\n",
       "      <td>546.000000</td>\n",
       "      <td>546.000000</td>\n",
       "      <td>546.0</td>\n",
       "      <td>546.000000</td>\n",
       "      <td>546.000000</td>\n",
       "      <td>546.000000</td>\n",
       "      <td>...</td>\n",
       "      <td>546.000000</td>\n",
       "      <td>546.000000</td>\n",
       "      <td>546.000000</td>\n",
       "      <td>546.0</td>\n",
       "      <td>546.000000</td>\n",
       "      <td>546.000000</td>\n",
       "      <td>546.0</td>\n",
       "      <td>546.000000</td>\n",
       "      <td>546.000000</td>\n",
       "      <td>546.000000</td>\n",
       "    </tr>\n",
       "    <tr>\n",
       "      <th>mean</th>\n",
       "      <td>0.415751</td>\n",
       "      <td>10.851119</td>\n",
       "      <td>-1.084521</td>\n",
       "      <td>0.156397</td>\n",
       "      <td>0.518640</td>\n",
       "      <td>361.670203</td>\n",
       "      <td>0.0</td>\n",
       "      <td>0.277216</td>\n",
       "      <td>-0.409089</td>\n",
       "      <td>0.419628</td>\n",
       "      <td>...</td>\n",
       "      <td>0.082418</td>\n",
       "      <td>0.020147</td>\n",
       "      <td>0.080586</td>\n",
       "      <td>0.0</td>\n",
       "      <td>0.003663</td>\n",
       "      <td>0.058608</td>\n",
       "      <td>0.0</td>\n",
       "      <td>0.054945</td>\n",
       "      <td>0.054945</td>\n",
       "      <td>0.049451</td>\n",
       "    </tr>\n",
       "    <tr>\n",
       "      <th>std</th>\n",
       "      <td>0.493303</td>\n",
       "      <td>2.963860</td>\n",
       "      <td>1.657574</td>\n",
       "      <td>0.162654</td>\n",
       "      <td>0.193121</td>\n",
       "      <td>106.419981</td>\n",
       "      <td>0.0</td>\n",
       "      <td>0.091947</td>\n",
       "      <td>0.082515</td>\n",
       "      <td>0.081396</td>\n",
       "      <td>...</td>\n",
       "      <td>0.318515</td>\n",
       "      <td>0.140630</td>\n",
       "      <td>0.272448</td>\n",
       "      <td>0.0</td>\n",
       "      <td>0.060467</td>\n",
       "      <td>0.235105</td>\n",
       "      <td>0.0</td>\n",
       "      <td>0.228082</td>\n",
       "      <td>0.343622</td>\n",
       "      <td>0.217006</td>\n",
       "    </tr>\n",
       "    <tr>\n",
       "      <th>min</th>\n",
       "      <td>0.000000</td>\n",
       "      <td>2.627060</td>\n",
       "      <td>-5.001750</td>\n",
       "      <td>0.000000</td>\n",
       "      <td>0.128283</td>\n",
       "      <td>147.133000</td>\n",
       "      <td>0.0</td>\n",
       "      <td>0.056730</td>\n",
       "      <td>-1.000000</td>\n",
       "      <td>0.153678</td>\n",
       "      <td>...</td>\n",
       "      <td>0.000000</td>\n",
       "      <td>0.000000</td>\n",
       "      <td>0.000000</td>\n",
       "      <td>0.0</td>\n",
       "      <td>0.000000</td>\n",
       "      <td>0.000000</td>\n",
       "      <td>0.0</td>\n",
       "      <td>0.000000</td>\n",
       "      <td>0.000000</td>\n",
       "      <td>0.000000</td>\n",
       "    </tr>\n",
       "    <tr>\n",
       "      <th>25%</th>\n",
       "      <td>0.000000</td>\n",
       "      <td>9.281164</td>\n",
       "      <td>-1.056486</td>\n",
       "      <td>0.053287</td>\n",
       "      <td>0.366079</td>\n",
       "      <td>285.480250</td>\n",
       "      <td>0.0</td>\n",
       "      <td>0.203425</td>\n",
       "      <td>-0.479438</td>\n",
       "      <td>0.368346</td>\n",
       "      <td>...</td>\n",
       "      <td>0.000000</td>\n",
       "      <td>0.000000</td>\n",
       "      <td>0.000000</td>\n",
       "      <td>0.0</td>\n",
       "      <td>0.000000</td>\n",
       "      <td>0.000000</td>\n",
       "      <td>0.0</td>\n",
       "      <td>0.000000</td>\n",
       "      <td>0.000000</td>\n",
       "      <td>0.000000</td>\n",
       "    </tr>\n",
       "    <tr>\n",
       "      <th>50%</th>\n",
       "      <td>0.000000</td>\n",
       "      <td>12.047829</td>\n",
       "      <td>-0.465912</td>\n",
       "      <td>0.108120</td>\n",
       "      <td>0.510446</td>\n",
       "      <td>337.810000</td>\n",
       "      <td>0.0</td>\n",
       "      <td>0.263259</td>\n",
       "      <td>-0.412099</td>\n",
       "      <td>0.412109</td>\n",
       "      <td>...</td>\n",
       "      <td>0.000000</td>\n",
       "      <td>0.000000</td>\n",
       "      <td>0.000000</td>\n",
       "      <td>0.0</td>\n",
       "      <td>0.000000</td>\n",
       "      <td>0.000000</td>\n",
       "      <td>0.0</td>\n",
       "      <td>0.000000</td>\n",
       "      <td>0.000000</td>\n",
       "      <td>0.000000</td>\n",
       "    </tr>\n",
       "    <tr>\n",
       "      <th>75%</th>\n",
       "      <td>1.000000</td>\n",
       "      <td>12.736188</td>\n",
       "      <td>0.063163</td>\n",
       "      <td>0.188652</td>\n",
       "      <td>0.673087</td>\n",
       "      <td>418.172250</td>\n",
       "      <td>0.0</td>\n",
       "      <td>0.330359</td>\n",
       "      <td>-0.351315</td>\n",
       "      <td>0.481069</td>\n",
       "      <td>...</td>\n",
       "      <td>0.000000</td>\n",
       "      <td>0.000000</td>\n",
       "      <td>0.000000</td>\n",
       "      <td>0.0</td>\n",
       "      <td>0.000000</td>\n",
       "      <td>0.000000</td>\n",
       "      <td>0.0</td>\n",
       "      <td>0.000000</td>\n",
       "      <td>0.000000</td>\n",
       "      <td>0.000000</td>\n",
       "    </tr>\n",
       "    <tr>\n",
       "      <th>max</th>\n",
       "      <td>1.000000</td>\n",
       "      <td>14.818185</td>\n",
       "      <td>0.769311</td>\n",
       "      <td>0.769311</td>\n",
       "      <td>0.939592</td>\n",
       "      <td>705.647000</td>\n",
       "      <td>0.0</td>\n",
       "      <td>1.000000</td>\n",
       "      <td>-0.153678</td>\n",
       "      <td>1.000000</td>\n",
       "      <td>...</td>\n",
       "      <td>2.000000</td>\n",
       "      <td>1.000000</td>\n",
       "      <td>1.000000</td>\n",
       "      <td>0.0</td>\n",
       "      <td>1.000000</td>\n",
       "      <td>1.000000</td>\n",
       "      <td>0.0</td>\n",
       "      <td>1.000000</td>\n",
       "      <td>4.000000</td>\n",
       "      <td>1.000000</td>\n",
       "    </tr>\n",
       "  </tbody>\n",
       "</table>\n",
       "<p>8 rows × 172 columns</p>\n",
       "</div>"
      ],
      "text/plain": [
       "       bioactivity_class  MaxEStateIndex  MinEStateIndex  MinAbsEStateIndex  \\\n",
       "count         546.000000      546.000000      546.000000         546.000000   \n",
       "mean            0.415751       10.851119       -1.084521           0.156397   \n",
       "std             0.493303        2.963860        1.657574           0.162654   \n",
       "min             0.000000        2.627060       -5.001750           0.000000   \n",
       "25%             0.000000        9.281164       -1.056486           0.053287   \n",
       "50%             0.000000       12.047829       -0.465912           0.108120   \n",
       "75%             1.000000       12.736188        0.063163           0.188652   \n",
       "max             1.000000       14.818185        0.769311           0.769311   \n",
       "\n",
       "              qed       MolWt  NumRadicalElectrons  MaxPartialCharge  \\\n",
       "count  546.000000  546.000000                546.0        546.000000   \n",
       "mean     0.518640  361.670203                  0.0          0.277216   \n",
       "std      0.193121  106.419981                  0.0          0.091947   \n",
       "min      0.128283  147.133000                  0.0          0.056730   \n",
       "25%      0.366079  285.480250                  0.0          0.203425   \n",
       "50%      0.510446  337.810000                  0.0          0.263259   \n",
       "75%      0.673087  418.172250                  0.0          0.330359   \n",
       "max      0.939592  705.647000                  0.0          1.000000   \n",
       "\n",
       "       MinPartialCharge  MaxAbsPartialCharge  ...  fr_sulfide  fr_sulfonamd  \\\n",
       "count        546.000000           546.000000  ...  546.000000    546.000000   \n",
       "mean          -0.409089             0.419628  ...    0.082418      0.020147   \n",
       "std            0.082515             0.081396  ...    0.318515      0.140630   \n",
       "min           -1.000000             0.153678  ...    0.000000      0.000000   \n",
       "25%           -0.479438             0.368346  ...    0.000000      0.000000   \n",
       "50%           -0.412099             0.412109  ...    0.000000      0.000000   \n",
       "75%           -0.351315             0.481069  ...    0.000000      0.000000   \n",
       "max           -0.153678             1.000000  ...    2.000000      1.000000   \n",
       "\n",
       "       fr_sulfone  fr_term_acetylene  fr_tetrazole  fr_thiazole  fr_thiocyan  \\\n",
       "count  546.000000              546.0    546.000000   546.000000        546.0   \n",
       "mean     0.080586                0.0      0.003663     0.058608          0.0   \n",
       "std      0.272448                0.0      0.060467     0.235105          0.0   \n",
       "min      0.000000                0.0      0.000000     0.000000          0.0   \n",
       "25%      0.000000                0.0      0.000000     0.000000          0.0   \n",
       "50%      0.000000                0.0      0.000000     0.000000          0.0   \n",
       "75%      0.000000                0.0      0.000000     0.000000          0.0   \n",
       "max      1.000000                0.0      1.000000     1.000000          0.0   \n",
       "\n",
       "       fr_thiophene  fr_unbrch_alkane     fr_urea  \n",
       "count    546.000000        546.000000  546.000000  \n",
       "mean       0.054945          0.054945    0.049451  \n",
       "std        0.228082          0.343622    0.217006  \n",
       "min        0.000000          0.000000    0.000000  \n",
       "25%        0.000000          0.000000    0.000000  \n",
       "50%        0.000000          0.000000    0.000000  \n",
       "75%        0.000000          0.000000    0.000000  \n",
       "max        1.000000          4.000000    1.000000  \n",
       "\n",
       "[8 rows x 172 columns]"
      ]
     },
     "execution_count": 11,
     "metadata": {},
     "output_type": "execute_result"
    }
   ],
   "source": [
    "rdkit2.describe()"
   ]
  },
  {
   "cell_type": "code",
   "execution_count": 12,
   "metadata": {},
   "outputs": [],
   "source": [
    "X_rdkit = rdkit2.drop('bioactivity_class', axis=1)\n",
    "y = rdkit2.bioactivity_class"
   ]
  },
  {
   "cell_type": "code",
   "execution_count": 14,
   "metadata": {},
   "outputs": [],
   "source": [
    "# randomly select 30% of compounds as test set\n",
    "X_train_rdkit, X_test_rdkit, y_train_rdkit, y_test_rdkit = train_test_split(X_rdkit, y, test_size=0.20, random_state=42, stratify=y)"
   ]
  },
  {
   "cell_type": "code",
   "execution_count": 15,
   "metadata": {},
   "outputs": [],
   "source": [
    "df_columns = X_rdkit.columns.tolist()"
   ]
  },
  {
   "cell_type": "code",
   "execution_count": 16,
   "metadata": {},
   "outputs": [],
   "source": [
    "# obtain scale object which can be further applied to scale any data to fit the training set\n",
    "scaler = StandardScaler()\n",
    "\n",
    "X_train_scaled_rdkit = pd.DataFrame(scaler.fit_transform(X_train_rdkit), columns=df_columns)\n"
   ]
  },
  {
   "cell_type": "code",
   "execution_count": 17,
   "metadata": {},
   "outputs": [
    {
     "data": {
      "text/html": [
       "<div>\n",
       "<style scoped>\n",
       "    .dataframe tbody tr th:only-of-type {\n",
       "        vertical-align: middle;\n",
       "    }\n",
       "\n",
       "    .dataframe tbody tr th {\n",
       "        vertical-align: top;\n",
       "    }\n",
       "\n",
       "    .dataframe thead th {\n",
       "        text-align: right;\n",
       "    }\n",
       "</style>\n",
       "<table border=\"1\" class=\"dataframe\">\n",
       "  <thead>\n",
       "    <tr style=\"text-align: right;\">\n",
       "      <th></th>\n",
       "      <th>MaxEStateIndex</th>\n",
       "      <th>MinEStateIndex</th>\n",
       "      <th>MinAbsEStateIndex</th>\n",
       "      <th>qed</th>\n",
       "      <th>MolWt</th>\n",
       "      <th>NumRadicalElectrons</th>\n",
       "      <th>MaxPartialCharge</th>\n",
       "      <th>MinPartialCharge</th>\n",
       "      <th>MaxAbsPartialCharge</th>\n",
       "      <th>MinAbsPartialCharge</th>\n",
       "      <th>...</th>\n",
       "      <th>fr_sulfide</th>\n",
       "      <th>fr_sulfonamd</th>\n",
       "      <th>fr_sulfone</th>\n",
       "      <th>fr_term_acetylene</th>\n",
       "      <th>fr_tetrazole</th>\n",
       "      <th>fr_thiazole</th>\n",
       "      <th>fr_thiocyan</th>\n",
       "      <th>fr_thiophene</th>\n",
       "      <th>fr_unbrch_alkane</th>\n",
       "      <th>fr_urea</th>\n",
       "    </tr>\n",
       "  </thead>\n",
       "  <tbody>\n",
       "    <tr>\n",
       "      <th>count</th>\n",
       "      <td>4.360000e+02</td>\n",
       "      <td>436.000000</td>\n",
       "      <td>4.360000e+02</td>\n",
       "      <td>4.360000e+02</td>\n",
       "      <td>4.360000e+02</td>\n",
       "      <td>436.0</td>\n",
       "      <td>4.360000e+02</td>\n",
       "      <td>4.360000e+02</td>\n",
       "      <td>4.360000e+02</td>\n",
       "      <td>4.360000e+02</td>\n",
       "      <td>...</td>\n",
       "      <td>436.000000</td>\n",
       "      <td>4.360000e+02</td>\n",
       "      <td>4.360000e+02</td>\n",
       "      <td>436.0</td>\n",
       "      <td>4.360000e+02</td>\n",
       "      <td>4.360000e+02</td>\n",
       "      <td>436.0</td>\n",
       "      <td>4.360000e+02</td>\n",
       "      <td>4.360000e+02</td>\n",
       "      <td>4.360000e+02</td>\n",
       "    </tr>\n",
       "    <tr>\n",
       "      <th>mean</th>\n",
       "      <td>3.300112e-16</td>\n",
       "      <td>0.000000</td>\n",
       "      <td>-9.778111e-17</td>\n",
       "      <td>8.453992e-17</td>\n",
       "      <td>-2.281559e-16</td>\n",
       "      <td>0.0</td>\n",
       "      <td>6.162247e-16</td>\n",
       "      <td>-5.907609e-17</td>\n",
       "      <td>-1.344490e-16</td>\n",
       "      <td>2.363044e-16</td>\n",
       "      <td>...</td>\n",
       "      <td>0.000000</td>\n",
       "      <td>-1.222264e-17</td>\n",
       "      <td>-2.444528e-17</td>\n",
       "      <td>0.0</td>\n",
       "      <td>1.629685e-17</td>\n",
       "      <td>-1.018553e-17</td>\n",
       "      <td>0.0</td>\n",
       "      <td>6.518741e-17</td>\n",
       "      <td>-4.074213e-17</td>\n",
       "      <td>8.046571e-17</td>\n",
       "    </tr>\n",
       "    <tr>\n",
       "      <th>std</th>\n",
       "      <td>1.001149e+00</td>\n",
       "      <td>1.001149</td>\n",
       "      <td>1.001149e+00</td>\n",
       "      <td>1.001149e+00</td>\n",
       "      <td>1.001149e+00</td>\n",
       "      <td>0.0</td>\n",
       "      <td>1.001149e+00</td>\n",
       "      <td>1.001149e+00</td>\n",
       "      <td>1.001149e+00</td>\n",
       "      <td>1.001149e+00</td>\n",
       "      <td>...</td>\n",
       "      <td>1.001149</td>\n",
       "      <td>1.001149e+00</td>\n",
       "      <td>1.001149e+00</td>\n",
       "      <td>0.0</td>\n",
       "      <td>1.001149e+00</td>\n",
       "      <td>1.001149e+00</td>\n",
       "      <td>0.0</td>\n",
       "      <td>1.001149e+00</td>\n",
       "      <td>1.001149e+00</td>\n",
       "      <td>1.001149e+00</td>\n",
       "    </tr>\n",
       "    <tr>\n",
       "      <th>min</th>\n",
       "      <td>-2.785627e+00</td>\n",
       "      <td>-2.319140</td>\n",
       "      <td>-9.740751e-01</td>\n",
       "      <td>-1.994039e+00</td>\n",
       "      <td>-2.006219e+00</td>\n",
       "      <td>0.0</td>\n",
       "      <td>-2.355055e+00</td>\n",
       "      <td>-7.509764e+00</td>\n",
       "      <td>-3.394007e+00</td>\n",
       "      <td>-2.795449e+00</td>\n",
       "      <td>...</td>\n",
       "      <td>-0.247314</td>\n",
       "      <td>-1.451802e-01</td>\n",
       "      <td>-3.089942e-01</td>\n",
       "      <td>0.0</td>\n",
       "      <td>-6.788442e-02</td>\n",
       "      <td>-2.466318e-01</td>\n",
       "      <td>0.0</td>\n",
       "      <td>-2.359874e-01</td>\n",
       "      <td>-1.551300e-01</td>\n",
       "      <td>-2.249498e-01</td>\n",
       "    </tr>\n",
       "    <tr>\n",
       "      <th>25%</th>\n",
       "      <td>-4.546373e-01</td>\n",
       "      <td>-0.012638</td>\n",
       "      <td>-6.314268e-01</td>\n",
       "      <td>-7.809384e-01</td>\n",
       "      <td>-7.206713e-01</td>\n",
       "      <td>0.0</td>\n",
       "      <td>-8.011626e-01</td>\n",
       "      <td>-9.068580e-01</td>\n",
       "      <td>-5.717384e-01</td>\n",
       "      <td>-8.478967e-01</td>\n",
       "      <td>...</td>\n",
       "      <td>-0.247314</td>\n",
       "      <td>-1.451802e-01</td>\n",
       "      <td>-3.089942e-01</td>\n",
       "      <td>0.0</td>\n",
       "      <td>-6.788442e-02</td>\n",
       "      <td>-2.466318e-01</td>\n",
       "      <td>0.0</td>\n",
       "      <td>-2.359874e-01</td>\n",
       "      <td>-1.551300e-01</td>\n",
       "      <td>-2.249498e-01</td>\n",
       "    </tr>\n",
       "    <tr>\n",
       "      <th>50%</th>\n",
       "      <td>3.985139e-01</td>\n",
       "      <td>0.392362</td>\n",
       "      <td>-2.834070e-01</td>\n",
       "      <td>-3.073269e-02</td>\n",
       "      <td>-2.222150e-01</td>\n",
       "      <td>0.0</td>\n",
       "      <td>-1.056893e-01</td>\n",
       "      <td>-5.271615e-02</td>\n",
       "      <td>-9.698253e-02</td>\n",
       "      <td>-5.755924e-02</td>\n",
       "      <td>...</td>\n",
       "      <td>-0.247314</td>\n",
       "      <td>-1.451802e-01</td>\n",
       "      <td>-3.089942e-01</td>\n",
       "      <td>0.0</td>\n",
       "      <td>-6.788442e-02</td>\n",
       "      <td>-2.466318e-01</td>\n",
       "      <td>0.0</td>\n",
       "      <td>-2.359874e-01</td>\n",
       "      <td>-1.551300e-01</td>\n",
       "      <td>-2.249498e-01</td>\n",
       "    </tr>\n",
       "    <tr>\n",
       "      <th>75%</th>\n",
       "      <td>6.313195e-01</td>\n",
       "      <td>0.691997</td>\n",
       "      <td>1.865427e-01</td>\n",
       "      <td>8.187827e-01</td>\n",
       "      <td>5.340386e-01</td>\n",
       "      <td>0.0</td>\n",
       "      <td>5.434114e-01</td>\n",
       "      <td>7.182780e-01</td>\n",
       "      <td>7.619930e-01</td>\n",
       "      <td>7.365461e-01</td>\n",
       "      <td>...</td>\n",
       "      <td>-0.247314</td>\n",
       "      <td>-1.451802e-01</td>\n",
       "      <td>-3.089942e-01</td>\n",
       "      <td>0.0</td>\n",
       "      <td>-6.788442e-02</td>\n",
       "      <td>-2.466318e-01</td>\n",
       "      <td>0.0</td>\n",
       "      <td>-2.359874e-01</td>\n",
       "      <td>-1.551300e-01</td>\n",
       "      <td>-2.249498e-01</td>\n",
       "    </tr>\n",
       "    <tr>\n",
       "      <th>max</th>\n",
       "      <td>1.333937e+00</td>\n",
       "      <td>1.133616</td>\n",
       "      <td>3.940840e+00</td>\n",
       "      <td>2.066645e+00</td>\n",
       "      <td>3.198785e+00</td>\n",
       "      <td>0.0</td>\n",
       "      <td>7.636705e+00</td>\n",
       "      <td>3.225150e+00</td>\n",
       "      <td>7.403238e+00</td>\n",
       "      <td>3.222939e+00</td>\n",
       "      <td>...</td>\n",
       "      <td>6.095553</td>\n",
       "      <td>6.887993e+00</td>\n",
       "      <td>3.236307e+00</td>\n",
       "      <td>0.0</td>\n",
       "      <td>1.473092e+01</td>\n",
       "      <td>4.054627e+00</td>\n",
       "      <td>0.0</td>\n",
       "      <td>4.237514e+00</td>\n",
       "      <td>1.066674e+01</td>\n",
       "      <td>4.445436e+00</td>\n",
       "    </tr>\n",
       "  </tbody>\n",
       "</table>\n",
       "<p>8 rows × 171 columns</p>\n",
       "</div>"
      ],
      "text/plain": [
       "       MaxEStateIndex  MinEStateIndex  MinAbsEStateIndex           qed  \\\n",
       "count    4.360000e+02      436.000000       4.360000e+02  4.360000e+02   \n",
       "mean     3.300112e-16        0.000000      -9.778111e-17  8.453992e-17   \n",
       "std      1.001149e+00        1.001149       1.001149e+00  1.001149e+00   \n",
       "min     -2.785627e+00       -2.319140      -9.740751e-01 -1.994039e+00   \n",
       "25%     -4.546373e-01       -0.012638      -6.314268e-01 -7.809384e-01   \n",
       "50%      3.985139e-01        0.392362      -2.834070e-01 -3.073269e-02   \n",
       "75%      6.313195e-01        0.691997       1.865427e-01  8.187827e-01   \n",
       "max      1.333937e+00        1.133616       3.940840e+00  2.066645e+00   \n",
       "\n",
       "              MolWt  NumRadicalElectrons  MaxPartialCharge  MinPartialCharge  \\\n",
       "count  4.360000e+02                436.0      4.360000e+02      4.360000e+02   \n",
       "mean  -2.281559e-16                  0.0      6.162247e-16     -5.907609e-17   \n",
       "std    1.001149e+00                  0.0      1.001149e+00      1.001149e+00   \n",
       "min   -2.006219e+00                  0.0     -2.355055e+00     -7.509764e+00   \n",
       "25%   -7.206713e-01                  0.0     -8.011626e-01     -9.068580e-01   \n",
       "50%   -2.222150e-01                  0.0     -1.056893e-01     -5.271615e-02   \n",
       "75%    5.340386e-01                  0.0      5.434114e-01      7.182780e-01   \n",
       "max    3.198785e+00                  0.0      7.636705e+00      3.225150e+00   \n",
       "\n",
       "       MaxAbsPartialCharge  MinAbsPartialCharge  ...  fr_sulfide  \\\n",
       "count         4.360000e+02         4.360000e+02  ...  436.000000   \n",
       "mean         -1.344490e-16         2.363044e-16  ...    0.000000   \n",
       "std           1.001149e+00         1.001149e+00  ...    1.001149   \n",
       "min          -3.394007e+00        -2.795449e+00  ...   -0.247314   \n",
       "25%          -5.717384e-01        -8.478967e-01  ...   -0.247314   \n",
       "50%          -9.698253e-02        -5.755924e-02  ...   -0.247314   \n",
       "75%           7.619930e-01         7.365461e-01  ...   -0.247314   \n",
       "max           7.403238e+00         3.222939e+00  ...    6.095553   \n",
       "\n",
       "       fr_sulfonamd    fr_sulfone  fr_term_acetylene  fr_tetrazole  \\\n",
       "count  4.360000e+02  4.360000e+02              436.0  4.360000e+02   \n",
       "mean  -1.222264e-17 -2.444528e-17                0.0  1.629685e-17   \n",
       "std    1.001149e+00  1.001149e+00                0.0  1.001149e+00   \n",
       "min   -1.451802e-01 -3.089942e-01                0.0 -6.788442e-02   \n",
       "25%   -1.451802e-01 -3.089942e-01                0.0 -6.788442e-02   \n",
       "50%   -1.451802e-01 -3.089942e-01                0.0 -6.788442e-02   \n",
       "75%   -1.451802e-01 -3.089942e-01                0.0 -6.788442e-02   \n",
       "max    6.887993e+00  3.236307e+00                0.0  1.473092e+01   \n",
       "\n",
       "        fr_thiazole  fr_thiocyan  fr_thiophene  fr_unbrch_alkane       fr_urea  \n",
       "count  4.360000e+02        436.0  4.360000e+02      4.360000e+02  4.360000e+02  \n",
       "mean  -1.018553e-17          0.0  6.518741e-17     -4.074213e-17  8.046571e-17  \n",
       "std    1.001149e+00          0.0  1.001149e+00      1.001149e+00  1.001149e+00  \n",
       "min   -2.466318e-01          0.0 -2.359874e-01     -1.551300e-01 -2.249498e-01  \n",
       "25%   -2.466318e-01          0.0 -2.359874e-01     -1.551300e-01 -2.249498e-01  \n",
       "50%   -2.466318e-01          0.0 -2.359874e-01     -1.551300e-01 -2.249498e-01  \n",
       "75%   -2.466318e-01          0.0 -2.359874e-01     -1.551300e-01 -2.249498e-01  \n",
       "max    4.054627e+00          0.0  4.237514e+00      1.066674e+01  4.445436e+00  \n",
       "\n",
       "[8 rows x 171 columns]"
      ]
     },
     "execution_count": 17,
     "metadata": {},
     "output_type": "execute_result"
    }
   ],
   "source": [
    "X_train_scaled_rdkit.describe()"
   ]
  },
  {
   "cell_type": "code",
   "execution_count": 18,
   "metadata": {},
   "outputs": [],
   "source": [
    "# scale descriptors of the test set compounds\n",
    "X_test_scaled_rdkit = pd.DataFrame(scaler.transform(X_test_rdkit), columns=df_columns)"
   ]
  },
  {
   "cell_type": "markdown",
   "metadata": {},
   "source": [
    "## Modeling"
   ]
  },
  {
   "cell_type": "markdown",
   "metadata": {},
   "source": [
    "#### **Random Forest**"
   ]
  },
  {
   "cell_type": "code",
   "execution_count": 31,
   "metadata": {},
   "outputs": [],
   "source": [
    "RF=RandomForestClassifier()"
   ]
  },
  {
   "cell_type": "code",
   "execution_count": 32,
   "metadata": {},
   "outputs": [],
   "source": [
    "parameters = {\n",
    "    'n_estimators': [125,150,175],\n",
    "    'max_features': ['auto', 'sqrt', 'log2', None],\n",
    "    'max_depth' : [4,5,6,7,8],\n",
    "    'criterion' :['gini', 'entropy']\n",
    "              }"
   ]
  },
  {
   "cell_type": "code",
   "execution_count": 33,
   "metadata": {},
   "outputs": [],
   "source": [
    "rf_gsearch = GridSearchCV(RF, parameters, n_jobs= 2, verbose=2,cv=5)"
   ]
  },
  {
   "cell_type": "code",
   "execution_count": 35,
   "metadata": {},
   "outputs": [
    {
     "name": "stdout",
     "output_type": "stream",
     "text": [
      "Fitting 5 folds for each of 120 candidates, totalling 600 fits\n"
     ]
    },
    {
     "name": "stderr",
     "output_type": "stream",
     "text": [
      "[Parallel(n_jobs=2)]: Using backend LokyBackend with 2 concurrent workers.\n",
      "[Parallel(n_jobs=2)]: Done  37 tasks      | elapsed:   10.6s\n",
      "[Parallel(n_jobs=2)]: Done 158 tasks      | elapsed:   50.9s\n",
      "[Parallel(n_jobs=2)]: Done 361 tasks      | elapsed:  2.1min\n",
      "[Parallel(n_jobs=2)]: Done 600 out of 600 | elapsed:  3.7min finished\n"
     ]
    },
    {
     "data": {
      "text/plain": [
       "GridSearchCV(cv=5, estimator=RandomForestClassifier(), n_jobs=2,\n",
       "             param_grid={'criterion': ['gini', 'entropy'],\n",
       "                         'max_depth': [4, 5, 6, 7, 8],\n",
       "                         'max_features': ['auto', 'sqrt', 'log2', None],\n",
       "                         'n_estimators': [125, 150, 175]},\n",
       "             verbose=2)"
      ]
     },
     "execution_count": 35,
     "metadata": {},
     "output_type": "execute_result"
    }
   ],
   "source": [
    "rf_gsearch.fit(X_train_scaled_rdkit, y_train_rdkit) "
   ]
  },
  {
   "cell_type": "code",
   "execution_count": 24,
   "metadata": {},
   "outputs": [
    {
     "name": "stdout",
     "output_type": "stream",
     "text": [
      "              precision    recall  f1-score   support\n",
      "\n",
      "           0       0.83      0.83      0.83        64\n",
      "           1       0.76      0.76      0.76        46\n",
      "\n",
      "    accuracy                           0.80       110\n",
      "   macro avg       0.79      0.79      0.79       110\n",
      "weighted avg       0.80      0.80      0.80       110\n",
      "\n"
     ]
    }
   ],
   "source": [
    "#Predictions and report\n",
    "y_test_pred_rf = rf_gsearch.predict(X_scaled_test_rdkit)\n",
    "y_train_pred_rf = rf_gsearch.predict(X_scaled_train_rdkit)\n",
    "print(classification_report(y_test_pred_rf,y_test_rdkit))"
   ]
  },
  {
   "cell_type": "code",
   "execution_count": 25,
   "metadata": {},
   "outputs": [
    {
     "data": {
      "text/plain": [
       "array([[53, 11],\n",
       "       [11, 35]])"
      ]
     },
     "execution_count": 25,
     "metadata": {},
     "output_type": "execute_result"
    }
   ],
   "source": [
    "confusion_matrix(y_test_rdkit, y_test_pred_rf)"
   ]
  },
  {
   "cell_type": "code",
   "execution_count": 26,
   "metadata": {},
   "outputs": [
    {
     "name": "stdout",
     "output_type": "stream",
     "text": [
      "Best score and parameter combination = \n",
      "0.8278735632183907\n",
      "{'criterion': 'entropy', 'max_depth': 7, 'max_features': 'log2', 'n_estimators': 150}\n"
     ]
    }
   ],
   "source": [
    "print('Best score and parameter combination = ')\n",
    "\n",
    "print(rf_gsearch.best_score_)    \n",
    "print(rf_gsearch.best_params_)   "
   ]
  },
  {
   "cell_type": "code",
   "execution_count": 27,
   "metadata": {},
   "outputs": [
    {
     "data": {
      "text/plain": [
       "0.8"
      ]
     },
     "execution_count": 27,
     "metadata": {},
     "output_type": "execute_result"
    }
   ],
   "source": [
    "round(accuracy_score(y_test_rdkit, y_test_pred_rf),2)"
   ]
  },
  {
   "cell_type": "code",
   "execution_count": 28,
   "metadata": {},
   "outputs": [
    {
     "data": {
      "text/plain": [
       "0.5889945652173914"
      ]
     },
     "execution_count": 28,
     "metadata": {},
     "output_type": "execute_result"
    }
   ],
   "source": [
    "matthews_corrcoef(y_test_rdkit, y_test_pred_rf)"
   ]
  },
  {
   "cell_type": "markdown",
   "metadata": {},
   "source": [
    "Using optuna"
   ]
  },
  {
   "cell_type": "code",
   "execution_count": null,
   "metadata": {},
   "outputs": [],
   "source": []
  },
  {
   "cell_type": "markdown",
   "metadata": {},
   "source": [
    "### XGBoost "
   ]
  },
  {
   "cell_type": "code",
   "execution_count": 29,
   "metadata": {},
   "outputs": [],
   "source": [
    "def objective(trial: Trial,X,y) -> float:\n",
    "    \n",
    "    #joblib.dump(study, 'study.pkl')\n",
    "    \n",
    "    train_X,test_X,train_y,test_y = train_test_split(X, Y, test_size = 0.30,random_state = 101)\n",
    "\n",
    "    param = {\n",
    "                \"n_estimators\" : trial.suggest_int('n_estimators', 0, 1000),\n",
    "                'max_depth':trial.suggest_int('max_depth', 2, 25),\n",
    "                'reg_alpha':trial.suggest_int('reg_alpha', 0, 5),\n",
    "                'reg_lambda':trial.suggest_int('reg_lambda', 0, 5),\n",
    "                'min_child_weight':trial.suggest_int('min_child_weight', 0, 5),\n",
    "                'gamma':trial.suggest_int('gamma', 0, 5),\n",
    "                'learning_rate':trial.suggest_loguniform('learning_rate',0.005,0.5),\n",
    "                'colsample_bytree':trial.suggest_discrete_uniform('colsample_bytree',0.1,1,0.01),\n",
    "                'nthread' : -1\n",
    "            }\n",
    "    model = XGBClassifier(**param)\n",
    "\n",
    "    model.fit(train_X,train_y)\n",
    "\n",
    "    return cross_val_score(model,test_X,test_y).mean()"
   ]
  },
  {
   "cell_type": "code",
   "execution_count": 3,
   "metadata": {},
   "outputs": [],
   "source": [
    "xgb_clf = xgb.XGBClassifier(n_estimators=250, objective='binary:logistic', silent=True, nthread=1)"
   ]
  },
  {
   "cell_type": "code",
   "execution_count": null,
   "metadata": {},
   "outputs": [],
   "source": [
    "params_xgb = { \n",
    "    \"learning_rate\": [0.05, 0.10, 0.15, 0.20, 0.25, 0.30 ] ,\n",
    "    \"max_depth\": [ 3, 4, 5, 6, 8, 10, 12, 15],\n",
    "    \"min_child_weight\" : [ 1, 3, 5, 7 ],\n",
    "    \"gamma\" : [ 0.0, 0.1, 0.2 , 0.3, 0.4 ],\n",
    "    \"colsample_bytree\" : [ 0.3, 0.4, 0.5 , 0.7 ]\n",
    "        \n",
    "}"
   ]
  },
  {
   "cell_type": "code",
   "execution_count": 4,
   "metadata": {},
   "outputs": [],
   "source": [
    "cv = RepeatedStratifiedKFold(n_splits=10, n_repeats=3, random_state=1)"
   ]
  },
  {
   "cell_type": "code",
   "execution_count": 64,
   "metadata": {},
   "outputs": [],
   "source": [
    "scores = cross_val_score(xgb_clf, X_train_rdkit, y_train_rdkit, scoring='accuracy', cv=cv, n_jobs=-1)"
   ]
  },
  {
   "cell_type": "code",
   "execution_count": 65,
   "metadata": {},
   "outputs": [
    {
     "name": "stdout",
     "output_type": "stream",
     "text": [
      "Mean Accuracy: 0.79856\n"
     ]
    }
   ],
   "source": [
    "print('Mean Accuracy: %.5f' % np.mean(scores))"
   ]
  },
  {
   "cell_type": "code",
   "execution_count": null,
   "metadata": {},
   "outputs": [],
   "source": []
  },
  {
   "cell_type": "markdown",
   "metadata": {},
   "source": [
    "## ExtraTree Classifier"
   ]
  },
  {
   "cell_type": "code",
   "execution_count": 31,
   "metadata": {},
   "outputs": [],
   "source": [
    "etc = ExtraTreesClassifier(n_estimators=100, random_state=42)"
   ]
  },
  {
   "cell_type": "code",
   "execution_count": 32,
   "metadata": {},
   "outputs": [
    {
     "data": {
      "text/plain": [
       "ExtraTreesClassifier(random_state=42)"
      ]
     },
     "execution_count": 32,
     "metadata": {},
     "output_type": "execute_result"
    }
   ],
   "source": [
    "etc.fit(X_train_rdkit, y_train_rdkit)"
   ]
  },
  {
   "cell_type": "code",
   "execution_count": 34,
   "metadata": {},
   "outputs": [
    {
     "name": "stdout",
     "output_type": "stream",
     "text": [
      "              precision    recall  f1-score   support\n",
      "\n",
      "      active       0.90      0.88      0.89        98\n",
      "    inactive       0.82      0.85      0.84        66\n",
      "\n",
      "    accuracy                           0.87       164\n",
      "   macro avg       0.86      0.86      0.86       164\n",
      "weighted avg       0.87      0.87      0.87       164\n",
      "\n"
     ]
    }
   ],
   "source": [
    "y_test_pred_etc = etc.predict(X_test_rdkit)\n",
    "y_train_pred_etc = etc.predict(X_train_rdkit)\n",
    "print(classification_report(y_test_pred_etc, y_test_rdkit))"
   ]
  },
  {
   "cell_type": "code",
   "execution_count": 45,
   "metadata": {},
   "outputs": [],
   "source": [
    "params_etc = {\n",
    "    'n_estimators': [100,125,150,175],\n",
    "    'max_features': ['auto', 'sqrt', 'log2'],\n",
    "    'max_depth' : [6,7,8, 9,10,None],\n",
    "    'criterion' :['gini', 'entropy']\n",
    "    }"
   ]
  },
  {
   "cell_type": "code",
   "execution_count": 46,
   "metadata": {},
   "outputs": [],
   "source": [
    "etc_gsearch = GridSearchCV(etc, params_etc, n_jobs= 2, cv=10, verbose=2, return_train_score=False)"
   ]
  },
  {
   "cell_type": "code",
   "execution_count": 47,
   "metadata": {},
   "outputs": [
    {
     "name": "stdout",
     "output_type": "stream",
     "text": [
      "Fitting 10 folds for each of 144 candidates, totalling 1440 fits\n"
     ]
    },
    {
     "name": "stderr",
     "output_type": "stream",
     "text": [
      "[Parallel(n_jobs=2)]: Using backend LokyBackend with 2 concurrent workers.\n",
      "[Parallel(n_jobs=2)]: Done  37 tasks      | elapsed:    7.8s\n",
      "[Parallel(n_jobs=2)]: Done 158 tasks      | elapsed:   23.7s\n",
      "[Parallel(n_jobs=2)]: Done 361 tasks      | elapsed:   53.6s\n",
      "[Parallel(n_jobs=2)]: Done 644 tasks      | elapsed:  1.6min\n",
      "[Parallel(n_jobs=2)]: Done 1009 tasks      | elapsed:  2.4min\n",
      "[Parallel(n_jobs=2)]: Done 1440 out of 1440 | elapsed:  3.5min finished\n"
     ]
    },
    {
     "data": {
      "text/plain": [
       "GridSearchCV(cv=10, estimator=ExtraTreesClassifier(random_state=42), n_jobs=2,\n",
       "             param_grid={'criterion': ['gini', 'entropy'],\n",
       "                         'max_depth': [6, 7, 8, 9, 10, None],\n",
       "                         'max_features': ['auto', 'sqrt', 'log2'],\n",
       "                         'n_estimators': [100, 125, 150, 175]},\n",
       "             verbose=2)"
      ]
     },
     "execution_count": 47,
     "metadata": {},
     "output_type": "execute_result"
    }
   ],
   "source": [
    "etc_gsearch.fit(X_train_rdkit, y_train_rdkit)"
   ]
  },
  {
   "cell_type": "code",
   "execution_count": 48,
   "metadata": {},
   "outputs": [
    {
     "data": {
      "text/plain": [
       "{'criterion': 'gini',\n",
       " 'max_depth': None,\n",
       " 'max_features': 'log2',\n",
       " 'n_estimators': 100}"
      ]
     },
     "execution_count": 48,
     "metadata": {},
     "output_type": "execute_result"
    }
   ],
   "source": [
    "etc_gsearch.best_params_"
   ]
  },
  {
   "cell_type": "code",
   "execution_count": 49,
   "metadata": {},
   "outputs": [
    {
     "name": "stdout",
     "output_type": "stream",
     "text": [
      "              precision    recall  f1-score   support\n",
      "\n",
      "      active       0.90      0.88      0.89        98\n",
      "    inactive       0.82      0.85      0.84        66\n",
      "\n",
      "    accuracy                           0.87       164\n",
      "   macro avg       0.86      0.86      0.86       164\n",
      "weighted avg       0.87      0.87      0.87       164\n",
      "\n"
     ]
    }
   ],
   "source": [
    "y_test_pred_etc_gsearch = etc_gsearch.predict(X_test_rdkit)\n",
    "y_train_pred_etc_gsearch = etc_gsearch.predict(X_train_rdkit)\n",
    "print(classification_report(y_test_pred_etc_gsearch, y_test_rdkit))"
   ]
  },
  {
   "cell_type": "code",
   "execution_count": 50,
   "metadata": {},
   "outputs": [
    {
     "data": {
      "text/plain": [
       "array([[86, 10],\n",
       "       [12, 56]])"
      ]
     },
     "execution_count": 50,
     "metadata": {},
     "output_type": "execute_result"
    }
   ],
   "source": [
    "confusion_matrix(y_test_rdkit, y_test_pred_etc_gsearch)"
   ]
  },
  {
   "cell_type": "code",
   "execution_count": 51,
   "metadata": {},
   "outputs": [
    {
     "data": {
      "text/plain": [
       "0.87"
      ]
     },
     "execution_count": 51,
     "metadata": {},
     "output_type": "execute_result"
    }
   ],
   "source": [
    "round(accuracy_score(y_test_rdkit, y_test_pred_etc_gsearch),2)"
   ]
  },
  {
   "cell_type": "code",
   "execution_count": 54,
   "metadata": {},
   "outputs": [
    {
     "data": {
      "text/plain": [
       "1.0"
      ]
     },
     "execution_count": 54,
     "metadata": {},
     "output_type": "execute_result"
    }
   ],
   "source": [
    "round(accuracy_score(y_train_rdkit, y_train_pred_etc_gsearch),2)"
   ]
  },
  {
   "cell_type": "code",
   "execution_count": 53,
   "metadata": {},
   "outputs": [
    {
     "data": {
      "text/plain": [
       "0.72"
      ]
     },
     "execution_count": 53,
     "metadata": {},
     "output_type": "execute_result"
    }
   ],
   "source": [
    "round(matthews_corrcoef(y_test_rdkit, y_test_pred_etc_gsearch),2)"
   ]
  },
  {
   "cell_type": "code",
   "execution_count": 55,
   "metadata": {},
   "outputs": [
    {
     "data": {
      "text/plain": [
       "1.0"
      ]
     },
     "execution_count": 55,
     "metadata": {},
     "output_type": "execute_result"
    }
   ],
   "source": [
    "round(matthews_corrcoef(y_train_rdkit, y_train_pred_etc_gsearch),2)"
   ]
  },
  {
   "cell_type": "code",
   "execution_count": null,
   "metadata": {},
   "outputs": [],
   "source": [
    "# Definimos listas vacias donde vamos a \"appendear\" (agregar) los valores\n",
    "accuracy_test = []\n",
    "accuracy_train = []\n",
    "\n",
    "# Calculamos el accuracy sobre el test set\n",
    "for prediccion_test in ada_clf.staged_predict(X_test):\n",
    "    accuracy_test.append(metrics.accuracy_score(prediccion_test,y_test))\n",
    "    \n",
    "# Calculamos el accuracy sobre el training set    \n",
    "for prediccion_train in ada_clf.staged_predict(X_train):  \n",
    "    accuracy_train.append(metrics.accuracy_score(prediccion_train,y_train))\n",
    "    \n",
    "plt.plot(range(1, len(accuracy_test) + 1), accuracy_test, label = 'Test')\n",
    "plt.plot(range(1, len(accuracy_test) + 1), accuracy_train, label = 'Train')\n",
    "plt.legend()\n",
    "plt.ylabel('Accuracy en el test set')\n",
    "plt.xlabel('Número de árboles')"
   ]
  }
 ],
 "metadata": {
  "kernelspec": {
   "display_name": "Python 3",
   "language": "python",
   "name": "python3"
  },
  "language_info": {
   "codemirror_mode": {
    "name": "ipython",
    "version": 3
   },
   "file_extension": ".py",
   "mimetype": "text/x-python",
   "name": "python",
   "nbconvert_exporter": "python",
   "pygments_lexer": "ipython3",
   "version": "3.8.5"
  }
 },
 "nbformat": 4,
 "nbformat_minor": 4
}
