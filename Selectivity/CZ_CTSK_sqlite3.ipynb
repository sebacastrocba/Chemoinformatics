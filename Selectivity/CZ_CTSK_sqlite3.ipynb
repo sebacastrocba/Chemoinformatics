{
 "cells": [
  {
   "cell_type": "markdown",
   "metadata": {},
   "source": [
    "# Búsquedas en la base de datos de ChEMBL"
   ]
  },
  {
   "cell_type": "code",
   "execution_count": 35,
   "metadata": {},
   "outputs": [],
   "source": [
    "import pandas as pd\n",
    "import numpy as np\n",
    "import sqlite3\n",
    "from rdkit.Chem import Draw\n",
    "from rdkit.Chem import PandasTools"
   ]
  },
  {
   "cell_type": "code",
   "execution_count": 3,
   "metadata": {},
   "outputs": [],
   "source": [
    "con = sqlite3.connect('ChEMBL_sqlite/chembl_27.db')"
   ]
  },
  {
   "cell_type": "code",
   "execution_count": 12,
   "metadata": {},
   "outputs": [],
   "source": [
    "querry = \"SELECT compound_structures.molregno, compound_structures.canonical_smiles,activities.standard_value, activities.standard_units FROM target_dictionary INNER JOIN assays ON target_dictionary.tid = assays.tid INNER JOIN activities ON assays.assay_id = activities.assay_id INNER JOIN molecule_dictionary ON activities.molregno = molecule_dictionary.molregno INNER JOIN compound_structures ON molecule_dictionary.molregno = compound_structures.molregno WHERE target_dictionary.tid = 10452 AND standard_type = 'IC50' AND standard_units = 'nM'\" "
   ]
  },
  {
   "cell_type": "code",
   "execution_count": 14,
   "metadata": {},
   "outputs": [],
   "source": [
    "df = pd.read_sql_query(querry,con)"
   ]
  },
  {
   "cell_type": "code",
   "execution_count": 15,
   "metadata": {},
   "outputs": [
    {
     "data": {
      "text/html": [
       "<div>\n",
       "<style scoped>\n",
       "    .dataframe tbody tr th:only-of-type {\n",
       "        vertical-align: middle;\n",
       "    }\n",
       "\n",
       "    .dataframe tbody tr th {\n",
       "        vertical-align: top;\n",
       "    }\n",
       "\n",
       "    .dataframe thead th {\n",
       "        text-align: right;\n",
       "    }\n",
       "</style>\n",
       "<table border=\"1\" class=\"dataframe\">\n",
       "  <thead>\n",
       "    <tr style=\"text-align: right;\">\n",
       "      <th></th>\n",
       "      <th>molregno</th>\n",
       "      <th>canonical_smiles</th>\n",
       "      <th>standard_value</th>\n",
       "      <th>standard_units</th>\n",
       "    </tr>\n",
       "  </thead>\n",
       "  <tbody>\n",
       "    <tr>\n",
       "      <th>0</th>\n",
       "      <td>147999</td>\n",
       "      <td>C/C(=N\\N=C(\\N)S)c1ccc(Cl)c(Cl)c1</td>\n",
       "      <td>50.0</td>\n",
       "      <td>nM</td>\n",
       "    </tr>\n",
       "    <tr>\n",
       "      <th>1</th>\n",
       "      <td>147540</td>\n",
       "      <td>C/C(=N\\NC(N)=O)c1cccc(Cl)c1</td>\n",
       "      <td>10000.0</td>\n",
       "      <td>nM</td>\n",
       "    </tr>\n",
       "    <tr>\n",
       "      <th>2</th>\n",
       "      <td>147085</td>\n",
       "      <td>CC/C(=N\\N=C(/S)NC)c1cccc(Br)c1</td>\n",
       "      <td>10000.0</td>\n",
       "      <td>nM</td>\n",
       "    </tr>\n",
       "    <tr>\n",
       "      <th>3</th>\n",
       "      <td>147770</td>\n",
       "      <td>S=C(Nc1cccc(Cl)c1)N1CCC(c2cccc(Br)c2)=N1</td>\n",
       "      <td>1000.0</td>\n",
       "      <td>nM</td>\n",
       "    </tr>\n",
       "    <tr>\n",
       "      <th>4</th>\n",
       "      <td>147416</td>\n",
       "      <td>CCC(N/N=C(/N)S)c1cccc(Br)c1</td>\n",
       "      <td>10000.0</td>\n",
       "      <td>nM</td>\n",
       "    </tr>\n",
       "  </tbody>\n",
       "</table>\n",
       "</div>"
      ],
      "text/plain": [
       "   molregno                          canonical_smiles  standard_value  \\\n",
       "0    147999          C/C(=N\\N=C(\\N)S)c1ccc(Cl)c(Cl)c1            50.0   \n",
       "1    147540               C/C(=N\\NC(N)=O)c1cccc(Cl)c1         10000.0   \n",
       "2    147085            CC/C(=N\\N=C(/S)NC)c1cccc(Br)c1         10000.0   \n",
       "3    147770  S=C(Nc1cccc(Cl)c1)N1CCC(c2cccc(Br)c2)=N1          1000.0   \n",
       "4    147416               CCC(N/N=C(/N)S)c1cccc(Br)c1         10000.0   \n",
       "\n",
       "  standard_units  \n",
       "0             nM  \n",
       "1             nM  \n",
       "2             nM  \n",
       "3             nM  \n",
       "4             nM  "
      ]
     },
     "execution_count": 15,
     "metadata": {},
     "output_type": "execute_result"
    }
   ],
   "source": [
    "df.head()"
   ]
  },
  {
   "cell_type": "code",
   "execution_count": 16,
   "metadata": {},
   "outputs": [
    {
     "name": "stdout",
     "output_type": "stream",
     "text": [
      "<class 'pandas.core.frame.DataFrame'>\n",
      "RangeIndex: 722 entries, 0 to 721\n",
      "Data columns (total 4 columns):\n",
      " #   Column            Non-Null Count  Dtype  \n",
      "---  ------            --------------  -----  \n",
      " 0   molregno          722 non-null    int64  \n",
      " 1   canonical_smiles  722 non-null    object \n",
      " 2   standard_value    722 non-null    float64\n",
      " 3   standard_units    722 non-null    object \n",
      "dtypes: float64(1), int64(1), object(2)\n",
      "memory usage: 22.7+ KB\n"
     ]
    }
   ],
   "source": [
    "df.info()"
   ]
  },
  {
   "cell_type": "markdown",
   "metadata": {},
   "source": [
    "Exiten 722 compuestos inhibidores de Cruzipaina en esta base de datos"
   ]
  },
  {
   "cell_type": "code",
   "execution_count": 22,
   "metadata": {},
   "outputs": [
    {
     "data": {
      "text/plain": [
       "175"
      ]
     },
     "execution_count": 22,
     "metadata": {},
     "output_type": "execute_result"
    }
   ],
   "source": [
    "df.duplicated(subset='molregno', keep='first').sum()"
   ]
  },
  {
   "cell_type": "markdown",
   "metadata": {},
   "source": [
    "Existen 175 compuestos duplicados en la base de datos"
   ]
  },
  {
   "cell_type": "code",
   "execution_count": 24,
   "metadata": {},
   "outputs": [],
   "source": [
    "df.drop_duplicates(subset=['molregno'], inplace=True)"
   ]
  },
  {
   "cell_type": "code",
   "execution_count": 26,
   "metadata": {},
   "outputs": [
    {
     "name": "stdout",
     "output_type": "stream",
     "text": [
      "Total de inhibidores de Cruzipaina: 547\n"
     ]
    }
   ],
   "source": [
    "print('Total de inhibidores de Cruzipaina:', len(df))"
   ]
  },
  {
   "cell_type": "code",
   "execution_count": 30,
   "metadata": {},
   "outputs": [
    {
     "data": {
      "text/plain": [
       "molregno            0\n",
       "canonical_smiles    0\n",
       "standard_value      0\n",
       "standard_units      0\n",
       "dtype: int64"
      ]
     },
     "execution_count": 30,
     "metadata": {},
     "output_type": "execute_result"
    }
   ],
   "source": [
    "df.isnull().sum()"
   ]
  },
  {
   "cell_type": "code",
   "execution_count": 17,
   "metadata": {},
   "outputs": [],
   "source": [
    "querry2 = \"SELECT compound_structures.molregno, compound_structures.canonical_smiles,activities.standard_value, activities.standard_units FROM target_dictionary INNER JOIN assays ON target_dictionary.tid = assays.tid INNER JOIN activities ON assays.assay_id = activities.assay_id INNER JOIN molecule_dictionary ON activities.molregno = molecule_dictionary.molregno INNER JOIN compound_structures ON molecule_dictionary.molregno = compound_structures.molregno WHERE target_dictionary.tid = 10495 AND standard_type = 'IC50' AND standard_units = 'nM'\" "
   ]
  },
  {
   "cell_type": "code",
   "execution_count": 18,
   "metadata": {},
   "outputs": [],
   "source": [
    "catk = pd.read_sql_query(querry2,con)"
   ]
  },
  {
   "cell_type": "code",
   "execution_count": 19,
   "metadata": {},
   "outputs": [
    {
     "data": {
      "text/html": [
       "<div>\n",
       "<style scoped>\n",
       "    .dataframe tbody tr th:only-of-type {\n",
       "        vertical-align: middle;\n",
       "    }\n",
       "\n",
       "    .dataframe tbody tr th {\n",
       "        vertical-align: top;\n",
       "    }\n",
       "\n",
       "    .dataframe thead th {\n",
       "        text-align: right;\n",
       "    }\n",
       "</style>\n",
       "<table border=\"1\" class=\"dataframe\">\n",
       "  <thead>\n",
       "    <tr style=\"text-align: right;\">\n",
       "      <th></th>\n",
       "      <th>molregno</th>\n",
       "      <th>canonical_smiles</th>\n",
       "      <th>standard_value</th>\n",
       "      <th>standard_units</th>\n",
       "    </tr>\n",
       "  </thead>\n",
       "  <tbody>\n",
       "    <tr>\n",
       "      <th>0</th>\n",
       "      <td>189716</td>\n",
       "      <td>C[C@H](NC(=O)OCc1ccccc1)C(=O)N[C@@H]1C(=O)N2CC...</td>\n",
       "      <td>2500.0</td>\n",
       "      <td>nM</td>\n",
       "    </tr>\n",
       "    <tr>\n",
       "      <th>1</th>\n",
       "      <td>189647</td>\n",
       "      <td>CC(C)[C@H](NC(=O)OCc1ccccc1)C(=O)N[C@@H]1C(=O)...</td>\n",
       "      <td>100.0</td>\n",
       "      <td>nM</td>\n",
       "    </tr>\n",
       "    <tr>\n",
       "      <th>2</th>\n",
       "      <td>189682</td>\n",
       "      <td>O=C(N[C@@H](Cc1ccccc1)C(=O)N[C@@H]1C(=O)N2CCO[...</td>\n",
       "      <td>1630.0</td>\n",
       "      <td>nM</td>\n",
       "    </tr>\n",
       "    <tr>\n",
       "      <th>3</th>\n",
       "      <td>189578</td>\n",
       "      <td>O=C(N[C@@H](Cc1ccccc1)C(=O)N[C@@H]1C(=O)N2CCO[...</td>\n",
       "      <td>5.0</td>\n",
       "      <td>nM</td>\n",
       "    </tr>\n",
       "    <tr>\n",
       "      <th>4</th>\n",
       "      <td>122224</td>\n",
       "      <td>COc1ccc(NCCNC(=O)[C@H](CC(C)C)NC(=O)c2ccc(OCc3...</td>\n",
       "      <td>3.0</td>\n",
       "      <td>nM</td>\n",
       "    </tr>\n",
       "  </tbody>\n",
       "</table>\n",
       "</div>"
      ],
      "text/plain": [
       "   molregno                                   canonical_smiles  \\\n",
       "0    189716  C[C@H](NC(=O)OCc1ccccc1)C(=O)N[C@@H]1C(=O)N2CC...   \n",
       "1    189647  CC(C)[C@H](NC(=O)OCc1ccccc1)C(=O)N[C@@H]1C(=O)...   \n",
       "2    189682  O=C(N[C@@H](Cc1ccccc1)C(=O)N[C@@H]1C(=O)N2CCO[...   \n",
       "3    189578  O=C(N[C@@H](Cc1ccccc1)C(=O)N[C@@H]1C(=O)N2CCO[...   \n",
       "4    122224  COc1ccc(NCCNC(=O)[C@H](CC(C)C)NC(=O)c2ccc(OCc3...   \n",
       "\n",
       "   standard_value standard_units  \n",
       "0          2500.0             nM  \n",
       "1           100.0             nM  \n",
       "2          1630.0             nM  \n",
       "3             5.0             nM  \n",
       "4             3.0             nM  "
      ]
     },
     "execution_count": 19,
     "metadata": {},
     "output_type": "execute_result"
    }
   ],
   "source": [
    "catk.head()"
   ]
  },
  {
   "cell_type": "code",
   "execution_count": 20,
   "metadata": {},
   "outputs": [
    {
     "name": "stdout",
     "output_type": "stream",
     "text": [
      "<class 'pandas.core.frame.DataFrame'>\n",
      "RangeIndex: 1713 entries, 0 to 1712\n",
      "Data columns (total 4 columns):\n",
      " #   Column            Non-Null Count  Dtype  \n",
      "---  ------            --------------  -----  \n",
      " 0   molregno          1713 non-null   int64  \n",
      " 1   canonical_smiles  1713 non-null   object \n",
      " 2   standard_value    1713 non-null   float64\n",
      " 3   standard_units    1713 non-null   object \n",
      "dtypes: float64(1), int64(1), object(2)\n",
      "memory usage: 53.7+ KB\n"
     ]
    }
   ],
   "source": [
    "catk.info()"
   ]
  },
  {
   "cell_type": "markdown",
   "metadata": {},
   "source": [
    "Existen 1713 compuestos inhibidores de Catepsina K en esta base de datos"
   ]
  },
  {
   "cell_type": "code",
   "execution_count": 27,
   "metadata": {},
   "outputs": [
    {
     "data": {
      "text/plain": [
       "206"
      ]
     },
     "execution_count": 27,
     "metadata": {},
     "output_type": "execute_result"
    }
   ],
   "source": [
    "catk.duplicated(subset='molregno', keep='first').sum()"
   ]
  },
  {
   "cell_type": "markdown",
   "metadata": {},
   "source": [
    "Existen 206 compuestos duplicados "
   ]
  },
  {
   "cell_type": "code",
   "execution_count": 28,
   "metadata": {},
   "outputs": [],
   "source": [
    "catk.drop_duplicates(subset=['molregno'], inplace=True)"
   ]
  },
  {
   "cell_type": "code",
   "execution_count": 29,
   "metadata": {},
   "outputs": [
    {
     "name": "stdout",
     "output_type": "stream",
     "text": [
      "Total de inhibidores de Catepsina K: 1507\n"
     ]
    }
   ],
   "source": [
    "print('Total de inhibidores de Catepsina K:', len(catk))"
   ]
  },
  {
   "cell_type": "code",
   "execution_count": 31,
   "metadata": {},
   "outputs": [
    {
     "data": {
      "text/plain": [
       "molregno            0\n",
       "canonical_smiles    0\n",
       "standard_value      0\n",
       "standard_units      0\n",
       "dtype: int64"
      ]
     },
     "execution_count": 31,
     "metadata": {},
     "output_type": "execute_result"
    }
   ],
   "source": [
    "catk.isnull().sum()"
   ]
  },
  {
   "cell_type": "markdown",
   "metadata": {},
   "source": [
    "Veamos ahora los compuestos que tienen en común Cruzipaina y Catepsina K:"
   ]
  },
  {
   "cell_type": "code",
   "execution_count": 60,
   "metadata": {},
   "outputs": [],
   "source": [
    "compartidos = pd.merge(df, catk, how='inner', on='molregno')"
   ]
  },
  {
   "cell_type": "code",
   "execution_count": 61,
   "metadata": {},
   "outputs": [
    {
     "data": {
      "text/html": [
       "<div>\n",
       "<style scoped>\n",
       "    .dataframe tbody tr th:only-of-type {\n",
       "        vertical-align: middle;\n",
       "    }\n",
       "\n",
       "    .dataframe tbody tr th {\n",
       "        vertical-align: top;\n",
       "    }\n",
       "\n",
       "    .dataframe thead th {\n",
       "        text-align: right;\n",
       "    }\n",
       "</style>\n",
       "<table border=\"1\" class=\"dataframe\">\n",
       "  <thead>\n",
       "    <tr style=\"text-align: right;\">\n",
       "      <th></th>\n",
       "      <th>molregno</th>\n",
       "      <th>canonical_smiles_x</th>\n",
       "      <th>standard_value_x</th>\n",
       "      <th>standard_units_x</th>\n",
       "      <th>canonical_smiles_y</th>\n",
       "      <th>standard_value_y</th>\n",
       "      <th>standard_units_y</th>\n",
       "    </tr>\n",
       "  </thead>\n",
       "  <tbody>\n",
       "    <tr>\n",
       "      <th>0</th>\n",
       "      <td>577347</td>\n",
       "      <td>CC(C)Nc1nc(C#N)nc(Nc2ccccc2)n1</td>\n",
       "      <td>890.0</td>\n",
       "      <td>nM</td>\n",
       "      <td>CC(C)Nc1nc(C#N)nc(Nc2ccccc2)n1</td>\n",
       "      <td>200.000</td>\n",
       "      <td>nM</td>\n",
       "    </tr>\n",
       "    <tr>\n",
       "      <th>1</th>\n",
       "      <td>577411</td>\n",
       "      <td>N#Cc1nc(Nc2cccc(Cl)c2)nc(NC2CCCC2)n1</td>\n",
       "      <td>79.0</td>\n",
       "      <td>nM</td>\n",
       "      <td>N#Cc1nc(Nc2cccc(Cl)c2)nc(NC2CCCC2)n1</td>\n",
       "      <td>17.380</td>\n",
       "      <td>nM</td>\n",
       "    </tr>\n",
       "    <tr>\n",
       "      <th>2</th>\n",
       "      <td>577361</td>\n",
       "      <td>N#Cc1nc(Nc2cc(F)cc(F)c2)nc(NC2CCCC2)n1</td>\n",
       "      <td>63.0</td>\n",
       "      <td>nM</td>\n",
       "      <td>N#Cc1nc(Nc2cc(F)cc(F)c2)nc(NC2CCCC2)n1</td>\n",
       "      <td>20.420</td>\n",
       "      <td>nM</td>\n",
       "    </tr>\n",
       "    <tr>\n",
       "      <th>3</th>\n",
       "      <td>577380</td>\n",
       "      <td>CCn1cnc2c(Nc3cc(F)cc(F)c3)nc(C#N)nc21</td>\n",
       "      <td>10.0</td>\n",
       "      <td>nM</td>\n",
       "      <td>CCn1cnc2c(Nc3cc(F)cc(F)c3)nc(C#N)nc21</td>\n",
       "      <td>23.440</td>\n",
       "      <td>nM</td>\n",
       "    </tr>\n",
       "    <tr>\n",
       "      <th>4</th>\n",
       "      <td>577314</td>\n",
       "      <td>CCNc1nc(C#N)nc2c1ncn2-c1cc(F)cc(F)c1</td>\n",
       "      <td>251.0</td>\n",
       "      <td>nM</td>\n",
       "      <td>CCNc1nc(C#N)nc2c1ncn2-c1cc(F)cc(F)c1</td>\n",
       "      <td>50.120</td>\n",
       "      <td>nM</td>\n",
       "    </tr>\n",
       "    <tr>\n",
       "      <th>5</th>\n",
       "      <td>326812</td>\n",
       "      <td>CC(C)C[C@H](N[C@@H](c1ccc(-c2ccc(N3CCNCC3)cc2)...</td>\n",
       "      <td>1.8</td>\n",
       "      <td>nM</td>\n",
       "      <td>CC(C)C[C@H](N[C@@H](c1ccc(-c2ccc(N3CCNCC3)cc2)...</td>\n",
       "      <td>0.005</td>\n",
       "      <td>nM</td>\n",
       "    </tr>\n",
       "    <tr>\n",
       "      <th>6</th>\n",
       "      <td>414254</td>\n",
       "      <td>CC(C)C[C@H](N[C@@H](c1ccc(-c2ccc(S(C)(=O)=O)cc...</td>\n",
       "      <td>0.2</td>\n",
       "      <td>nM</td>\n",
       "      <td>CC(C)C[C@H](N[C@@H](c1ccc(-c2ccc(S(C)(=O)=O)cc...</td>\n",
       "      <td>0.600</td>\n",
       "      <td>nM</td>\n",
       "    </tr>\n",
       "    <tr>\n",
       "      <th>7</th>\n",
       "      <td>714927</td>\n",
       "      <td>CC(C)[C@H](N[C@@H](c1ccc(-c2ccc(S(C)(=O)=O)cc2...</td>\n",
       "      <td>0.2</td>\n",
       "      <td>nM</td>\n",
       "      <td>CC(C)[C@H](N[C@@H](c1ccc(-c2ccc(S(C)(=O)=O)cc2...</td>\n",
       "      <td>0.900</td>\n",
       "      <td>nM</td>\n",
       "    </tr>\n",
       "    <tr>\n",
       "      <th>8</th>\n",
       "      <td>714928</td>\n",
       "      <td>CC(C)[C@H](N[C@@H](c1ccc(-c2ccc(C3(C(N)=O)CC3)...</td>\n",
       "      <td>0.2</td>\n",
       "      <td>nM</td>\n",
       "      <td>CC(C)[C@H](N[C@@H](c1ccc(-c2ccc(C3(C(N)=O)CC3)...</td>\n",
       "      <td>3.000</td>\n",
       "      <td>nM</td>\n",
       "    </tr>\n",
       "    <tr>\n",
       "      <th>9</th>\n",
       "      <td>714929</td>\n",
       "      <td>CC(C)[C@H](N[C@@H](c1ccc(-c2ccc([C@@H](O)C(F)F...</td>\n",
       "      <td>0.4</td>\n",
       "      <td>nM</td>\n",
       "      <td>CC(C)[C@H](N[C@@H](c1ccc(-c2ccc([C@@H](O)C(F)F...</td>\n",
       "      <td>2.000</td>\n",
       "      <td>nM</td>\n",
       "    </tr>\n",
       "    <tr>\n",
       "      <th>10</th>\n",
       "      <td>372418</td>\n",
       "      <td>CC(C)C[C@H](NC(=O)[C@H]1O[C@@H]1C(=O)O)C(=O)NC...</td>\n",
       "      <td>400.0</td>\n",
       "      <td>nM</td>\n",
       "      <td>CC(C)C[C@H](NC(=O)[C@H]1O[C@@H]1C(=O)O)C(=O)NC...</td>\n",
       "      <td>4.000</td>\n",
       "      <td>nM</td>\n",
       "    </tr>\n",
       "  </tbody>\n",
       "</table>\n",
       "</div>"
      ],
      "text/plain": [
       "    molregno                                 canonical_smiles_x  \\\n",
       "0     577347                     CC(C)Nc1nc(C#N)nc(Nc2ccccc2)n1   \n",
       "1     577411               N#Cc1nc(Nc2cccc(Cl)c2)nc(NC2CCCC2)n1   \n",
       "2     577361             N#Cc1nc(Nc2cc(F)cc(F)c2)nc(NC2CCCC2)n1   \n",
       "3     577380              CCn1cnc2c(Nc3cc(F)cc(F)c3)nc(C#N)nc21   \n",
       "4     577314               CCNc1nc(C#N)nc2c1ncn2-c1cc(F)cc(F)c1   \n",
       "5     326812  CC(C)C[C@H](N[C@@H](c1ccc(-c2ccc(N3CCNCC3)cc2)...   \n",
       "6     414254  CC(C)C[C@H](N[C@@H](c1ccc(-c2ccc(S(C)(=O)=O)cc...   \n",
       "7     714927  CC(C)[C@H](N[C@@H](c1ccc(-c2ccc(S(C)(=O)=O)cc2...   \n",
       "8     714928  CC(C)[C@H](N[C@@H](c1ccc(-c2ccc(C3(C(N)=O)CC3)...   \n",
       "9     714929  CC(C)[C@H](N[C@@H](c1ccc(-c2ccc([C@@H](O)C(F)F...   \n",
       "10    372418  CC(C)C[C@H](NC(=O)[C@H]1O[C@@H]1C(=O)O)C(=O)NC...   \n",
       "\n",
       "    standard_value_x standard_units_x  \\\n",
       "0              890.0               nM   \n",
       "1               79.0               nM   \n",
       "2               63.0               nM   \n",
       "3               10.0               nM   \n",
       "4              251.0               nM   \n",
       "5                1.8               nM   \n",
       "6                0.2               nM   \n",
       "7                0.2               nM   \n",
       "8                0.2               nM   \n",
       "9                0.4               nM   \n",
       "10             400.0               nM   \n",
       "\n",
       "                                   canonical_smiles_y  standard_value_y  \\\n",
       "0                      CC(C)Nc1nc(C#N)nc(Nc2ccccc2)n1           200.000   \n",
       "1                N#Cc1nc(Nc2cccc(Cl)c2)nc(NC2CCCC2)n1            17.380   \n",
       "2              N#Cc1nc(Nc2cc(F)cc(F)c2)nc(NC2CCCC2)n1            20.420   \n",
       "3               CCn1cnc2c(Nc3cc(F)cc(F)c3)nc(C#N)nc21            23.440   \n",
       "4                CCNc1nc(C#N)nc2c1ncn2-c1cc(F)cc(F)c1            50.120   \n",
       "5   CC(C)C[C@H](N[C@@H](c1ccc(-c2ccc(N3CCNCC3)cc2)...             0.005   \n",
       "6   CC(C)C[C@H](N[C@@H](c1ccc(-c2ccc(S(C)(=O)=O)cc...             0.600   \n",
       "7   CC(C)[C@H](N[C@@H](c1ccc(-c2ccc(S(C)(=O)=O)cc2...             0.900   \n",
       "8   CC(C)[C@H](N[C@@H](c1ccc(-c2ccc(C3(C(N)=O)CC3)...             3.000   \n",
       "9   CC(C)[C@H](N[C@@H](c1ccc(-c2ccc([C@@H](O)C(F)F...             2.000   \n",
       "10  CC(C)C[C@H](NC(=O)[C@H]1O[C@@H]1C(=O)O)C(=O)NC...             4.000   \n",
       "\n",
       "   standard_units_y  \n",
       "0                nM  \n",
       "1                nM  \n",
       "2                nM  \n",
       "3                nM  \n",
       "4                nM  \n",
       "5                nM  \n",
       "6                nM  \n",
       "7                nM  \n",
       "8                nM  \n",
       "9                nM  \n",
       "10               nM  "
      ]
     },
     "execution_count": 61,
     "metadata": {},
     "output_type": "execute_result"
    }
   ],
   "source": [
    "compartidos"
   ]
  },
  {
   "cell_type": "markdown",
   "metadata": {},
   "source": [
    "Existen 11 compuestos en común entre Cruzipaina y Catepsina K. A continuación se muestran sus estructuras químicas."
   ]
  },
  {
   "cell_type": "code",
   "execution_count": 42,
   "metadata": {},
   "outputs": [],
   "source": [
    "compuestos = compartidos[['canonical_smiles_x']]"
   ]
  },
  {
   "cell_type": "code",
   "execution_count": 43,
   "metadata": {},
   "outputs": [
    {
     "name": "stderr",
     "output_type": "stream",
     "text": [
      "/home/seba/anaconda3/envs/my-rdkit-env/lib/python3.7/site-packages/rdkit/Chem/PandasTools.py:416: SettingWithCopyWarning: \n",
      "A value is trying to be set on a copy of a slice from a DataFrame.\n",
      "Try using .loc[row_indexer,col_indexer] = value instead\n",
      "\n",
      "See the caveats in the documentation: https://pandas.pydata.org/pandas-docs/stable/user_guide/indexing.html#returning-a-view-versus-a-copy\n",
      "  frame[molCol] = frame[smilesCol].map(Chem.MolFromSmiles)\n"
     ]
    }
   ],
   "source": [
    "PandasTools.AddMoleculeColumnToFrame(compuestos, 'canonical_smiles_x', 'Structure')"
   ]
  },
  {
   "cell_type": "code",
   "execution_count": 41,
   "metadata": {},
   "outputs": [
    {
     "data": {
      "text/html": [
       "<div>\n",
       "<style scoped>\n",
       "    .dataframe tbody tr th:only-of-type {\n",
       "        vertical-align: middle;\n",
       "    }\n",
       "\n",
       "    .dataframe tbody tr th {\n",
       "        vertical-align: top;\n",
       "    }\n",
       "\n",
       "    .dataframe thead th {\n",
       "        text-align: right;\n",
       "    }\n",
       "</style>\n",
       "<table border=\"1\" class=\"dataframe\">\n",
       "  <thead>\n",
       "    <tr style=\"text-align: right;\">\n",
       "      <th></th>\n",
       "      <th>canonical_smiles_x</th>\n",
       "      <th>Structure</th>\n",
       "    </tr>\n",
       "  </thead>\n",
       "  <tbody>\n",
       "    <tr>\n",
       "      <th>0</th>\n",
       "      <td>CC(C)Nc1nc(C#N)nc(Nc2ccccc2)n1</td>\n",
       "      <td><img data-content=\"rdkit/molecule\" src=\"data:image/png;base64,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\" alt=\"Mol\"/></td>\n",
       "    </tr>\n",
       "    <tr>\n",
       "      <th>1</th>\n",
       "      <td>N#Cc1nc(Nc2cccc(Cl)c2)nc(NC2CCCC2)n1</td>\n",
       "      <td><img data-content=\"rdkit/molecule\" src=\"data:image/png;base64,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\" alt=\"Mol\"/></td>\n",
       "    </tr>\n",
       "    <tr>\n",
       "      <th>2</th>\n",
       "      <td>N#Cc1nc(Nc2cc(F)cc(F)c2)nc(NC2CCCC2)n1</td>\n",
       "      <td><img data-content=\"rdkit/molecule\" src=\"data:image/png;base64,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\" alt=\"Mol\"/></td>\n",
       "    </tr>\n",
       "    <tr>\n",
       "      <th>3</th>\n",
       "      <td>CCn1cnc2c(Nc3cc(F)cc(F)c3)nc(C#N)nc21</td>\n",
       "      <td><img data-content=\"rdkit/molecule\" src=\"data:image/png;base64,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\" alt=\"Mol\"/></td>\n",
       "    </tr>\n",
       "    <tr>\n",
       "      <th>4</th>\n",
       "      <td>CCNc1nc(C#N)nc2c1ncn2-c1cc(F)cc(F)c1</td>\n",
       "      <td><img data-content=\"rdkit/molecule\" src=\"data:image/png;base64,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\" alt=\"Mol\"/></td>\n",
       "    </tr>\n",
       "    <tr>\n",
       "      <th>5</th>\n",
       "      <td>CC(C)C[C@H](N[C@@H](c1ccc(-c2ccc(N3CCNCC3)cc2)...</td>\n",
       "      <td><img data-content=\"rdkit/molecule\" src=\"data:image/png;base64,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\" alt=\"Mol\"/></td>\n",
       "    </tr>\n",
       "    <tr>\n",
       "      <th>6</th>\n",
       "      <td>CC(C)C[C@H](N[C@@H](c1ccc(-c2ccc(S(C)(=O)=O)cc...</td>\n",
       "      <td><img data-content=\"rdkit/molecule\" src=\"data:image/png;base64,iVBORw0KGgoAAAANSUhEUgAAAMgAAADICAIAAAAiOjnJAAAABmJLR0QA/wD/AP+gvaeTAAAXi0lEQVR4nO2de1yU1bqA32FAbg6IgIhCgJT3TEEuSeoxj5qCqWheENS9TTp5QbeKIJl46UJBW7Zle5ulYVvN1GNiG5UILdyxxRnUEDAvKHKRW4IgAwwz854/lk4clGG+T5Y5+D4/f/3BfOvyTc+31vrWetcaCSICQXQ0Jn90BYjOCYlFcIHEIrhAYhFcILEILpBYBBdILIILJBbBBRKL4AKJRXCBxCK4QGIRXCCxCC6QWAQXSCyCCyQWwQUSi+ACiUVwgcQiuEBiEVwgsQgukFgEF0gsggskFsEFEovgAolFcIHEIrhAYhFcILEILpBYBBdILIILJBbBBRKL4AKJRXCBxCK4QGIRXCCxCC6QWAQXSCyCCyQWwQUSi+ACiUVwgcQiuEBiEVwgsQgukFgEF0gsggskFsEFEovgAolFcIHEIrhAYhFcILEILpBYBBdILIILJBbBBRKL4AKJRXCBxCK4QGIRXCCxCC6QWAQXSCyCCyQWwQUSi+ACiUVwgcRqk6/KyzPu3NEg/tEVMUqMVSyNRvOf//znyy+/5FeEBMDcxEQqkfArohMjQeN8IjUaja2trVKprKystLe351HEt1VV/9Wtm41UakJuCcdYWyypVDps2DBElMvlnIo4dvv2f1+4UNDYyCn/zo2xigUAPj4+AJCVlcUpf3tTUwDIq6/nlH/nxujFOnv2LKf8B1pbA0CuUskp/84NidUmTCxqscRhxGJ5enra29uXlZUVFxfzyL+/lZWJRFLZ1NSkUvHIv3NjxGJJJBJvb2/gNsyyMjGxff/9E8OGnT93jkf+nRsjFgv494auMhnoFVeNeEuloqnUBzH9oyvwSPAWy8fHZ9euXS3z12q1N+vr81SqXKUyr77+14aGXl26THVwoKnUVhi3WH5+fgAgl8u1Wq2JSce3vkzczMzMo0ePKhQKhUKRmZk5cdeu/F692AUSAAmApYmJr0zW4aUbNcYtVs+ePZ2dnW/duvXtt98GBwd3VLZ37tzJyclRKBQZGRkSieTatWuvvvqq7lNtXt6YgQMHWlsPsrYeaGXVVSrtqHI7E8a6pMM4efJkYGCgg4NDUVGRm5vblClTXnvttYCAAInAXkmp1f6qVObV1+cqlbXXrm0bN67VBT4+PhMmTPDx8fHx8XF2du64O+i0GLFY+/btW7BggUqlGjRoUHV1dWlpKfu7m5vb9OnTZ8yY4e/vr9+wr8rL3S0sjt++/X11tfb+99BbIjnm7z9kyJCAgABvb+8TJ07s3bs3Li4uKiqK+y11JtA4SUxMZIOqiIgIjUaj0WjkcnlsbKynp6fu1lxcXCIiIr7//vvm5uaHZvJVWdmZ2toPCgv9FIq5eXnvFhZ+W1l5ub5erVbrrklKSgKA6dOnP6476yQYn1harXbNmjUAIJFI4uLiHvz0559/XrlypZubm84wKyurgICAB7M6XFmJiDXNzU0aTVvF5eXlAYCrq2vH3kWnx8jEampqmjNnDgB06dJlz549+i++ePFibGysg4MDs/Du3bsiStRqtd26dQOA0tJSUVV+SjEmserq6saPHw8AXbt2PX78uIGpFAoFa7euXbsmrtwxY8YAQHJysrjkTydGM/N+69atkSNHpqamOjs7//TTTxMmTDAwoZeX1zPPPAMAv/76q7iifX194dGmYWtra9PS0mpqakTnYHQYh1jl5eX+/v7nz58fMGBAZmbmsGHDBCX39/cHgIKCAnGlP8r8PiJu2LDhhRdemDRpkoODw0svvfS3v/2toqJCXE2MiT+6yTSUJUuW+Pn5VVZWikh74sQJiUSycuVKcUUXFhYCQPfu3bVaraCEKpVq3rx5AGBqavrCCy9I70+lmpmZTZgwYceOHeJuxygwGrGam5uVSqXo5DKZLDAwUHRyNikqaJR29+7diRMnAoC1tXVKSgoifvjhh++8805QUFCXLl2YYVKpNCAgIDExsfO9GRiNWI/IjBkzWIy8OIKCggDgyy+/NPD6srIyFtLj5OQkl8sRsaCggM3Wuru7h4eHR0dHT5w4saVh7733nujqPYFIN2zY8Hj73j8GS0vLf/3rX8uWLROXvKSkpKCgYM+ePVlZWWq12sPDw9zcvK2LCwoKxo4de/HixT59+qSnpw8ePBgAampqGhsbi4qKSkpKFArF6dOnETE0NPSVV15xdHS8cuVKSUkJ3B/PdQb+aLMfEw0NDYMHDxaXtra2dsWKFcuWLdMtEFlaWk6bNm3Pnj21tbWtLs7KyurRowcA+Pj4lJeXt/pUrVanp6cvXrxYt+AolUrLy8s//vhjAJg1a5a4Gj6BPC1iIWJwcLDQ0Tcinjhxws3N7dSpU4hYVFS0ffv2oKAgU9N7USHm5uZBQUFJSUk1NTWImJqaKpPJAGDcuHEPOtcSjUbz448/Llu2LCQkBBF/+eUXAOjTp4/Ym3vieIrE2rZt24NNiB40GvzTnz4xNzf/4osvWn1UUlLy8ccfjx49WveiZ25u7uXlxYRbuHBhW6uTbaFWq62trQGgoqJCUMInFmMSa8eO3/8rlLt378bExISEhMyfP//o0aONjY36rz9/Hl1d1RJJ48aNra1qSVVVVVJSUlBQkJmZmZmZmbW19apVq0S0i4j40ksvAcCxY8dEpH0CMSaxEhLw2DFMSBCcsKKigs2e697CbG1tQ0NDU1IuNzS0vlirxXXr0MwMAXDBAkMbnoqKCg8PDwA4ffp0bm5uenq60EquXLkSADZt2iQ04ZOJMYklrsUqKCjo168fALi7u//www+JiYm6SMD+/estLTEoCJOSsK4OEbG5GceORQAEwJEjhRW0cOFCAFi7di0AuLi4CEuMuG/fPgCYPHmy0IQtEbfQzgNjEksEFy5c6N27NwA8//zzxcXFur9fu3bto4/+7uNzzyEAtLbGU6cwNxe7dkUAHDwYVSphZf3jH/8AgLlz57JoiJKSEkHJr169CgBOTk7CSr3PjRs3AgMDx48f36dPn4iIiIyMDHH5dBTGJNaaNXjhAu7ahdXV2CIUr03S0tJsbGwAYOzYsXfu3HnoNYWFmJiIAQFobo4REXjhAq5ahTNmoIhJfhZG0bdv35dffhkAjhw5Iii5Vqtlx+bcvHlTaNHnz5/v1asXAFhZWekmkvr27RsTE5OdnS00tw7BaMRqbMQdO/Czz3DXLnz9dbS3x7AwTE5us13ZvXu3mZkZAISGhqoMaHyqqn7PXxwqlcrS0lIikaxYsQIA1q1bJzQHFrJx6NAhQanS09NtbW0BYMyYMb/99tv+/fuXLFnSMjDfzc2NtWHi3irEYRxi/fILenjgihWYnY0xMRgQ8HsX5uCA69blHD9+vKU9rQKXDSxlx457+YuGhVHExsYCwIQJEwxMpdFo2DzIunXrACA6OtrwEg8ePGhhYQEA06dPb2hoQERfX18rK6vAwMDo6OhFixb17NlTZ5iHh8djezkwArG+/x5lMgTAadN+/+PFixgbiwMHIgA+//z/AICdnV1YWNiRI0dYgyGRSOLj4wUV9CjTGYyIiAgAYNsuDIyGYDGxnp6eZWVlW7duBQAHB4e4uLirV6+2m/bB56ehoaHlolDXrl1nzpy5efPmxYsXs7Gmr6/v9u3bxd+hwTxusW7fvn3lypUzZ84Y2Cx/9RV26YIAOH06Pjg1gIgXL2o3btzM1uMYbEopQfi0hOjpjBa1/QoApk2bxnqiduWoqalh4am2traffPKJjY2Nbk4fAAYOHBgbG5uXl/dgwpaB/x988EGrTwsKCuLj4/38/HRrUFZWVikpKV988QUA9OvXT/wdGsxjFSsnJ8fV1ZXNBLq6urKOX09XFR+fMHToKQBctQrb9TA/P3/EiBEWFhaBgYEA8Oabbwqt3qO3WJcuXQKA3r17T5482czMjEXLtEVpaenQoUMBwNnZOSEhgfVoU6dOPXjwYFhYGBs2tTQsNzeXJWwZ+L937149Rdy8eZNNr5iampaWlupGgdXV1eJv0jAen1i6Maanp6erq6vuW3NxcVm+fHkrwzQazfLlywHAzq77tm2GfgtMqfXr1wPA8OHD+dyHPnQ7L86dO9fw0Ab2Pnl5eSxgesCAAbGxsQ+OCBsbG7/77rsFCxbY2dm1NCw6Opo9mTKZ7MSJEwZWTBdRyA4lSEtLE3BXBw7g0aO4e7eAJI9NrEOHDrEnMjg4mH3jbAvNc889p/vWHBwcwsLCkpOT7969O3v2bEOeyFawEKCIiAipVNqlS5d21214MHbsWABYtGiRnnmszMxMtnfIz88vMjKS9WixsbEPvVitVmdkZERERDg5ObEvSiaT9ezZ88KFCyKqxwKH3n//fQFp2FBV4MhMpFiCYmr1vKNptdqsrKw1a9b06dNHZxhbjrW1tRW6MJKSkgIAo0aNGjRoEACcOXNGUPIOIT09fdy4cQBgYmLi7e0dGxvbaqSl1WrZ+tKrr746a9YsMGwrGyI2Nzenpqb27dsXADZv3oyi5tl3797NHm+Drq6qQrX6MbVYP//88/jx4z08PDw8PNqd4dVqtezdW88TqYO1Yf379/fy8ho1apSIJ7KyspJ5uTo8PMrL65edO4Xm0CEcPnw4ODjY0tKSPScSicTf3z8hIeHGjRvsguLi4sjISBFb2RCRRW4tWLDA19dXKpUKjZrPz88Hw1ecZsxAJyfcvx/T0gyakm6BMLG++eYbFjnJGhXGc889t3btWoVC0eripqamkJAQw59IHUVFRV9//bWgium4PHmyyt1d+9ZbCIDz5onLpENQKpXJyclhYWGyFiccsWH4v//9b7bRqGfPnkJnxs+cOQMAgwYNGjlyJADofz94EAH7b+vr0doaJRKMjkYAfOMNQQUJEGvr1q2sR1u2bJlKpWIdf1szvHV1dWweWegTyXj99deFJrnHzJkIgG+/jQA4YIDITDqU+vr6gwcPzp49W2cYi+Lq37//9evXhebW2Nhobm5uYmKydOlSANi4caPQHAxdcfrmGwTAESPQ2xsBUOB+XYPEatmjrVy5ctSoUefPn2cfqdXqkydPtlpDeOaZZ9h0XK9evXRXCmLIkCFCY+XuER9/7/EyN0eJBPm/VxuOUqk8fPjw3LlzZ82aFR0dXVVVJS6f4cOH615+g4KChCaPjo4GA1acmtctQakU33oLJRKUyR4+i9g27YvV1NQ0d+5c1qPFxcWxmYLx48e3ukyj0WRkZERFRbHzXtzd3Xv37q0bVQjFw8MjNTVVTMpTpxAAvb2RhS4Ij4t68nnzzTcBgPnRo0cPockPHToE7a04aTTK7Oyuuek96o6/rx49DMNChZbSjlh1dXWvvPIK69H++te/suV3f39/PWNGrVa7adOmdquunxEjRkyaNElMyro6lErRzAwjI3HCBPzpJ9F1eGLZuXMnAMycOZP97ygsLDQk1dmzZ1988cWysjK2/9ba2jo1NbWtbqG6+pBcDvn5/vn5fnI5VN/+X6GV1CfWrVu3vLy82Bjzo48+Yq85U6dO1bNxtK6u7uTJk4cPHwYAR0dHobXRMX/+fHt7e5GJjx7FK1dEF/3kk5OTw/oE9swfPHiw3SQpKSldu3YFgFWrVoWHh0ulUjat2L17dzZ32NTU1PL6goIQuRxKSt6SyyXZ2V01GsFRRG2KdfXq1WeffRYAPD09169fz4btS5Ys0R8soHuYHB0dAUB0V/j2228DgIgA33uImnoxFjQaDXsPYNHMUVFR+q9PSkpiEUQhISGTJk0CAEtLyzlz5gwcOFA3LFYovK9fD6upSdZqGxHxypUghUJaXBwjl0NBwWwRlWxTrOPHj1tbW3t7e2/bto0N2w3ZqtvqYTpw4ICIOuF9QcPDw8UlFzdZbESMGjUKAD799NOvv/66qKhIz5WJiYlsKTo8PHzEiBGslWLbZRExNzd348aN8+b9t1wO7N+5c92uX5+nUhU3N1dWV3/7668vV1cL7gdRj1gvvvgiABw9elSpVI4ePXqHYWuzuodp1apVALBmzRoRdULEtLQ0AHj22WfFJe/cLRYisq934cKFeoJE1Gr14sWL2ezGpk2bWOC/h4fHpUuXHry4sbGgvDzx0qUAuVySnW1RUbGtpiZZra69ezdLRD+IesRia8DvvPMOIhoeK4f3HyY2PTFmzBgRdULEGzdusCb68uXL4nLo3KSmprI+wcXFJTw8PDk5+cFh+OrVqwHAwsJiy5YtLHC5VeD/Q2lsvHL79je1tellZR82NZWcOyfLzra8ciWoqipJrda3BbcVbYr1z3/+EwCmTJlieF4Mdj9sbVUmkwmSUkdzczPbqhUZGSki+dPA/v37W56z2qtXr6VLl546dUp3Mm9JScnQoUO3bNnSbuB/S2prfygsXFxZub2ycntNzXf5+b5yuYT1ktnZVsuXL9q/f78ha5RtisXOv3N2djb8Vhn79+8HgMDAQDbj9dA4NUNgJyBMnDgRETvN/uAOhy2wspVphr29PXvRU6lUumG7gYH/iHj9+ny5HIqLoy9c6Hnz5gpEbGq6yXrJ777zYEVYWloGBwfv3btXT2hQm2JptVoWCdRu49kKdnCeo6Pj9OnTASApKUlQcsadO3dYZxoWFsZCFcrKykTk8/SgUCjWrl3bMgzJ1taWDdujoqIMjNfValXnz3eXy6G4eJ1cDlev/r8giIqKIhY2yKYILCws9JxP0eZRkbofbRN6RKKHhwebwWJvsyJOWPzLX/5iZ2en1WoBQHd4C79fYuoceHl5vffee5cvX2Zt2IABA5RK5aRJk+Lj4+Pi4gz8qY7a2jS1+ral5ZD6+gwAsLOb0fJTR0eX5cuXnz59uqioaOvWratXr5bp+QUhPf7GxMQAQIzwbSusdWHRUb6+vkKTJyQkAMCiRYtYHC17jVi/fr3QfJ5yrl+/LnS/lyZqufLPo37L3JB9tkt2toVa3f6YrC30HW4r+lBXJyen6urqzZs3W1hYsC1NgmBxcAqFYsiQIVZWjnZ2vYHnj4p3Vtzd3YX9ppBabbJzr+XOn7qnaIYF2vT/8XWp1EZ06e2LlZWVhYgAUG/wryMXFhaOGDEiMzPTycmpZa9vIN7e3qampjk5OSNHHm1sLG9o+JO/f1FR0RGj/dUfIyE9HSorYdAgOH0aKqosHfweKTf9DRqb/7h8+bJWq3V1dWVxalf0rsTl5OS4uLgAwODBg/VPCuth5sxLnp6N69drADA4GJ2cEADF/gAAYRiLFiEARkaiqSmam2NNzaNk1o5YU6ZMAYDY2Nj8/HzduQASicTPzy8+Pr6goKDV9S23e9c8Qs3+/GcEwJgYBEBXVwwKQgAUG1VKGEZpKX7yCX76KUql+AgnTDPaEWvfvn1s24mjo+OcOXOioqJee+01tk7OGD58uO6Q6ge3e4vm739HAAwNxW7dEABXr0a2u5DgiG4drKwMH7bsI4j2A/22bdvm7u6uM8nZ2fmNN9549913Q0NDbWxsbGxsmEPijktoC4UCAbBfPxwzBmUy/OwzjIzEkycfMVdCLx26cm9ozDubHWELmQx7e/uQkJAtW7Y0NTXp2e4tDpUKly7FpCSsrMRHtpQwjA5duRe8/Ss7OzsmJqblGgLbsWNubi56a40edGdiEcaF+J/uzc3NPXDgwIEDB+rr6/v27bt27Vp2vkXH8vnngAhmZrBgQYfnTXCkA34Tuqqqim0Y58Hnn4O3Nxw8CO++y6kEggtG/GPjxJOMcfxeIWF0kFgEF0gsggskFsEFEovgAolFcIHEIrhAYhFcILEILpBYBBdILIILJBbBBRKL4AKJRXCBxCK4QGIRXCCxCC6QWAQXSCyCCyQWwQUSi+ACiUVwgcQiuEBiEVwgsQgukFgEF0gsggskFsEFEovgAolFcIHEIrhAYhFcILEILpBYBBdILIILJBbBBRKL4AKJRXCBxCK4QGIRXCCxCC6QWAQXSCyCCyQWwQUSi+ACiUVwgcQiuEBiEVwgsQgukFgEF0gsggskFsEFEovgAolFcIHEIrhAYhFcILEILpBYBBdILIILJBbBBRKL4AKJRXCBxCK4QGIRXCCxCC78HylMCPGqCQMCAAAAAElFTkSuQmCC\" alt=\"Mol\"/></td>\n",
       "    </tr>\n",
       "    <tr>\n",
       "      <th>7</th>\n",
       "      <td>CC(C)[C@H](N[C@@H](c1ccc(-c2ccc(S(C)(=O)=O)cc2...</td>\n",
       "      <td><img data-content=\"rdkit/molecule\" src=\"data:image/png;base64,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\" alt=\"Mol\"/></td>\n",
       "    </tr>\n",
       "    <tr>\n",
       "      <th>8</th>\n",
       "      <td>CC(C)[C@H](N[C@@H](c1ccc(-c2ccc(C3(C(N)=O)CC3)...</td>\n",
       "      <td><img data-content=\"rdkit/molecule\" src=\"data:image/png;base64,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\" alt=\"Mol\"/></td>\n",
       "    </tr>\n",
       "    <tr>\n",
       "      <th>9</th>\n",
       "      <td>CC(C)[C@H](N[C@@H](c1ccc(-c2ccc([C@@H](O)C(F)F...</td>\n",
       "      <td><img data-content=\"rdkit/molecule\" src=\"data:image/png;base64,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\" alt=\"Mol\"/></td>\n",
       "    </tr>\n",
       "    <tr>\n",
       "      <th>10</th>\n",
       "      <td>CC(C)C[C@H](NC(=O)[C@H]1O[C@@H]1C(=O)O)C(=O)NC...</td>\n",
       "      <td><img data-content=\"rdkit/molecule\" src=\"data:image/png;base64,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\" alt=\"Mol\"/></td>\n",
       "    </tr>\n",
       "  </tbody>\n",
       "</table>\n",
       "</div>"
      ],
      "text/plain": [
       "                                   canonical_smiles_x  \\\n",
       "0                      CC(C)Nc1nc(C#N)nc(Nc2ccccc2)n1   \n",
       "1                N#Cc1nc(Nc2cccc(Cl)c2)nc(NC2CCCC2)n1   \n",
       "2              N#Cc1nc(Nc2cc(F)cc(F)c2)nc(NC2CCCC2)n1   \n",
       "3               CCn1cnc2c(Nc3cc(F)cc(F)c3)nc(C#N)nc21   \n",
       "4                CCNc1nc(C#N)nc2c1ncn2-c1cc(F)cc(F)c1   \n",
       "5   CC(C)C[C@H](N[C@@H](c1ccc(-c2ccc(N3CCNCC3)cc2)...   \n",
       "6   CC(C)C[C@H](N[C@@H](c1ccc(-c2ccc(S(C)(=O)=O)cc...   \n",
       "7   CC(C)[C@H](N[C@@H](c1ccc(-c2ccc(S(C)(=O)=O)cc2...   \n",
       "8   CC(C)[C@H](N[C@@H](c1ccc(-c2ccc(C3(C(N)=O)CC3)...   \n",
       "9   CC(C)[C@H](N[C@@H](c1ccc(-c2ccc([C@@H](O)C(F)F...   \n",
       "10  CC(C)C[C@H](NC(=O)[C@H]1O[C@@H]1C(=O)O)C(=O)NC...   \n",
       "\n",
       "                                            Structure  \n",
       "0   <img data-content=\"rdkit/molecule\" src=\"data:i...  \n",
       "1   <img data-content=\"rdkit/molecule\" src=\"data:i...  \n",
       "2   <img data-content=\"rdkit/molecule\" src=\"data:i...  \n",
       "3   <img data-content=\"rdkit/molecule\" src=\"data:i...  \n",
       "4   <img data-content=\"rdkit/molecule\" src=\"data:i...  \n",
       "5   <img data-content=\"rdkit/molecule\" src=\"data:i...  \n",
       "6   <img data-content=\"rdkit/molecule\" src=\"data:i...  \n",
       "7   <img data-content=\"rdkit/molecule\" src=\"data:i...  \n",
       "8   <img data-content=\"rdkit/molecule\" src=\"data:i...  \n",
       "9   <img data-content=\"rdkit/molecule\" src=\"data:i...  \n",
       "10  <img data-content=\"rdkit/molecule\" src=\"data:i...  "
      ]
     },
     "execution_count": 41,
     "metadata": {},
     "output_type": "execute_result"
    }
   ],
   "source": [
    "compuestos"
   ]
  },
  {
   "cell_type": "code",
   "execution_count": 57,
   "metadata": {},
   "outputs": [],
   "source": [
    "def pIC50(input):\n",
    "    pIC50_cz = []\n",
    "\n",
    "    for i in input['standard_value_x']:\n",
    "        molar = i*(10**-9) # Converts nM to M\n",
    "        pIC50_cz.append(-np.log10(molar))\n",
    "\n",
    "    input['pIC50 CZ'] = pIC50_cz\n",
    "    x = input\n",
    "        \n",
    "    return x"
   ]
  },
  {
   "cell_type": "code",
   "execution_count": 62,
   "metadata": {},
   "outputs": [],
   "source": [
    "compartidos2 = pIC50(compartidos)"
   ]
  },
  {
   "cell_type": "code",
   "execution_count": 63,
   "metadata": {},
   "outputs": [
    {
     "data": {
      "text/html": [
       "<div>\n",
       "<style scoped>\n",
       "    .dataframe tbody tr th:only-of-type {\n",
       "        vertical-align: middle;\n",
       "    }\n",
       "\n",
       "    .dataframe tbody tr th {\n",
       "        vertical-align: top;\n",
       "    }\n",
       "\n",
       "    .dataframe thead th {\n",
       "        text-align: right;\n",
       "    }\n",
       "</style>\n",
       "<table border=\"1\" class=\"dataframe\">\n",
       "  <thead>\n",
       "    <tr style=\"text-align: right;\">\n",
       "      <th></th>\n",
       "      <th>molregno</th>\n",
       "      <th>canonical_smiles_x</th>\n",
       "      <th>standard_value_x</th>\n",
       "      <th>standard_units_x</th>\n",
       "      <th>canonical_smiles_y</th>\n",
       "      <th>standard_value_y</th>\n",
       "      <th>standard_units_y</th>\n",
       "      <th>pIC50 CZ</th>\n",
       "    </tr>\n",
       "  </thead>\n",
       "  <tbody>\n",
       "    <tr>\n",
       "      <th>0</th>\n",
       "      <td>577347</td>\n",
       "      <td>CC(C)Nc1nc(C#N)nc(Nc2ccccc2)n1</td>\n",
       "      <td>890.0</td>\n",
       "      <td>nM</td>\n",
       "      <td>CC(C)Nc1nc(C#N)nc(Nc2ccccc2)n1</td>\n",
       "      <td>200.000</td>\n",
       "      <td>nM</td>\n",
       "      <td>6.050610</td>\n",
       "    </tr>\n",
       "    <tr>\n",
       "      <th>1</th>\n",
       "      <td>577411</td>\n",
       "      <td>N#Cc1nc(Nc2cccc(Cl)c2)nc(NC2CCCC2)n1</td>\n",
       "      <td>79.0</td>\n",
       "      <td>nM</td>\n",
       "      <td>N#Cc1nc(Nc2cccc(Cl)c2)nc(NC2CCCC2)n1</td>\n",
       "      <td>17.380</td>\n",
       "      <td>nM</td>\n",
       "      <td>7.102373</td>\n",
       "    </tr>\n",
       "    <tr>\n",
       "      <th>2</th>\n",
       "      <td>577361</td>\n",
       "      <td>N#Cc1nc(Nc2cc(F)cc(F)c2)nc(NC2CCCC2)n1</td>\n",
       "      <td>63.0</td>\n",
       "      <td>nM</td>\n",
       "      <td>N#Cc1nc(Nc2cc(F)cc(F)c2)nc(NC2CCCC2)n1</td>\n",
       "      <td>20.420</td>\n",
       "      <td>nM</td>\n",
       "      <td>7.200659</td>\n",
       "    </tr>\n",
       "    <tr>\n",
       "      <th>3</th>\n",
       "      <td>577380</td>\n",
       "      <td>CCn1cnc2c(Nc3cc(F)cc(F)c3)nc(C#N)nc21</td>\n",
       "      <td>10.0</td>\n",
       "      <td>nM</td>\n",
       "      <td>CCn1cnc2c(Nc3cc(F)cc(F)c3)nc(C#N)nc21</td>\n",
       "      <td>23.440</td>\n",
       "      <td>nM</td>\n",
       "      <td>8.000000</td>\n",
       "    </tr>\n",
       "    <tr>\n",
       "      <th>4</th>\n",
       "      <td>577314</td>\n",
       "      <td>CCNc1nc(C#N)nc2c1ncn2-c1cc(F)cc(F)c1</td>\n",
       "      <td>251.0</td>\n",
       "      <td>nM</td>\n",
       "      <td>CCNc1nc(C#N)nc2c1ncn2-c1cc(F)cc(F)c1</td>\n",
       "      <td>50.120</td>\n",
       "      <td>nM</td>\n",
       "      <td>6.600326</td>\n",
       "    </tr>\n",
       "    <tr>\n",
       "      <th>5</th>\n",
       "      <td>326812</td>\n",
       "      <td>CC(C)C[C@H](N[C@@H](c1ccc(-c2ccc(N3CCNCC3)cc2)...</td>\n",
       "      <td>1.8</td>\n",
       "      <td>nM</td>\n",
       "      <td>CC(C)C[C@H](N[C@@H](c1ccc(-c2ccc(N3CCNCC3)cc2)...</td>\n",
       "      <td>0.005</td>\n",
       "      <td>nM</td>\n",
       "      <td>8.744727</td>\n",
       "    </tr>\n",
       "    <tr>\n",
       "      <th>6</th>\n",
       "      <td>414254</td>\n",
       "      <td>CC(C)C[C@H](N[C@@H](c1ccc(-c2ccc(S(C)(=O)=O)cc...</td>\n",
       "      <td>0.2</td>\n",
       "      <td>nM</td>\n",
       "      <td>CC(C)C[C@H](N[C@@H](c1ccc(-c2ccc(S(C)(=O)=O)cc...</td>\n",
       "      <td>0.600</td>\n",
       "      <td>nM</td>\n",
       "      <td>9.698970</td>\n",
       "    </tr>\n",
       "    <tr>\n",
       "      <th>7</th>\n",
       "      <td>714927</td>\n",
       "      <td>CC(C)[C@H](N[C@@H](c1ccc(-c2ccc(S(C)(=O)=O)cc2...</td>\n",
       "      <td>0.2</td>\n",
       "      <td>nM</td>\n",
       "      <td>CC(C)[C@H](N[C@@H](c1ccc(-c2ccc(S(C)(=O)=O)cc2...</td>\n",
       "      <td>0.900</td>\n",
       "      <td>nM</td>\n",
       "      <td>9.698970</td>\n",
       "    </tr>\n",
       "    <tr>\n",
       "      <th>8</th>\n",
       "      <td>714928</td>\n",
       "      <td>CC(C)[C@H](N[C@@H](c1ccc(-c2ccc(C3(C(N)=O)CC3)...</td>\n",
       "      <td>0.2</td>\n",
       "      <td>nM</td>\n",
       "      <td>CC(C)[C@H](N[C@@H](c1ccc(-c2ccc(C3(C(N)=O)CC3)...</td>\n",
       "      <td>3.000</td>\n",
       "      <td>nM</td>\n",
       "      <td>9.698970</td>\n",
       "    </tr>\n",
       "    <tr>\n",
       "      <th>9</th>\n",
       "      <td>714929</td>\n",
       "      <td>CC(C)[C@H](N[C@@H](c1ccc(-c2ccc([C@@H](O)C(F)F...</td>\n",
       "      <td>0.4</td>\n",
       "      <td>nM</td>\n",
       "      <td>CC(C)[C@H](N[C@@H](c1ccc(-c2ccc([C@@H](O)C(F)F...</td>\n",
       "      <td>2.000</td>\n",
       "      <td>nM</td>\n",
       "      <td>9.397940</td>\n",
       "    </tr>\n",
       "    <tr>\n",
       "      <th>10</th>\n",
       "      <td>372418</td>\n",
       "      <td>CC(C)C[C@H](NC(=O)[C@H]1O[C@@H]1C(=O)O)C(=O)NC...</td>\n",
       "      <td>400.0</td>\n",
       "      <td>nM</td>\n",
       "      <td>CC(C)C[C@H](NC(=O)[C@H]1O[C@@H]1C(=O)O)C(=O)NC...</td>\n",
       "      <td>4.000</td>\n",
       "      <td>nM</td>\n",
       "      <td>6.397940</td>\n",
       "    </tr>\n",
       "  </tbody>\n",
       "</table>\n",
       "</div>"
      ],
      "text/plain": [
       "    molregno                                 canonical_smiles_x  \\\n",
       "0     577347                     CC(C)Nc1nc(C#N)nc(Nc2ccccc2)n1   \n",
       "1     577411               N#Cc1nc(Nc2cccc(Cl)c2)nc(NC2CCCC2)n1   \n",
       "2     577361             N#Cc1nc(Nc2cc(F)cc(F)c2)nc(NC2CCCC2)n1   \n",
       "3     577380              CCn1cnc2c(Nc3cc(F)cc(F)c3)nc(C#N)nc21   \n",
       "4     577314               CCNc1nc(C#N)nc2c1ncn2-c1cc(F)cc(F)c1   \n",
       "5     326812  CC(C)C[C@H](N[C@@H](c1ccc(-c2ccc(N3CCNCC3)cc2)...   \n",
       "6     414254  CC(C)C[C@H](N[C@@H](c1ccc(-c2ccc(S(C)(=O)=O)cc...   \n",
       "7     714927  CC(C)[C@H](N[C@@H](c1ccc(-c2ccc(S(C)(=O)=O)cc2...   \n",
       "8     714928  CC(C)[C@H](N[C@@H](c1ccc(-c2ccc(C3(C(N)=O)CC3)...   \n",
       "9     714929  CC(C)[C@H](N[C@@H](c1ccc(-c2ccc([C@@H](O)C(F)F...   \n",
       "10    372418  CC(C)C[C@H](NC(=O)[C@H]1O[C@@H]1C(=O)O)C(=O)NC...   \n",
       "\n",
       "    standard_value_x standard_units_x  \\\n",
       "0              890.0               nM   \n",
       "1               79.0               nM   \n",
       "2               63.0               nM   \n",
       "3               10.0               nM   \n",
       "4              251.0               nM   \n",
       "5                1.8               nM   \n",
       "6                0.2               nM   \n",
       "7                0.2               nM   \n",
       "8                0.2               nM   \n",
       "9                0.4               nM   \n",
       "10             400.0               nM   \n",
       "\n",
       "                                   canonical_smiles_y  standard_value_y  \\\n",
       "0                      CC(C)Nc1nc(C#N)nc(Nc2ccccc2)n1           200.000   \n",
       "1                N#Cc1nc(Nc2cccc(Cl)c2)nc(NC2CCCC2)n1            17.380   \n",
       "2              N#Cc1nc(Nc2cc(F)cc(F)c2)nc(NC2CCCC2)n1            20.420   \n",
       "3               CCn1cnc2c(Nc3cc(F)cc(F)c3)nc(C#N)nc21            23.440   \n",
       "4                CCNc1nc(C#N)nc2c1ncn2-c1cc(F)cc(F)c1            50.120   \n",
       "5   CC(C)C[C@H](N[C@@H](c1ccc(-c2ccc(N3CCNCC3)cc2)...             0.005   \n",
       "6   CC(C)C[C@H](N[C@@H](c1ccc(-c2ccc(S(C)(=O)=O)cc...             0.600   \n",
       "7   CC(C)[C@H](N[C@@H](c1ccc(-c2ccc(S(C)(=O)=O)cc2...             0.900   \n",
       "8   CC(C)[C@H](N[C@@H](c1ccc(-c2ccc(C3(C(N)=O)CC3)...             3.000   \n",
       "9   CC(C)[C@H](N[C@@H](c1ccc(-c2ccc([C@@H](O)C(F)F...             2.000   \n",
       "10  CC(C)C[C@H](NC(=O)[C@H]1O[C@@H]1C(=O)O)C(=O)NC...             4.000   \n",
       "\n",
       "   standard_units_y  pIC50 CZ  \n",
       "0                nM  6.050610  \n",
       "1                nM  7.102373  \n",
       "2                nM  7.200659  \n",
       "3                nM  8.000000  \n",
       "4                nM  6.600326  \n",
       "5                nM  8.744727  \n",
       "6                nM  9.698970  \n",
       "7                nM  9.698970  \n",
       "8                nM  9.698970  \n",
       "9                nM  9.397940  \n",
       "10               nM  6.397940  "
      ]
     },
     "execution_count": 63,
     "metadata": {},
     "output_type": "execute_result"
    }
   ],
   "source": [
    "compartidos2"
   ]
  },
  {
   "cell_type": "code",
   "execution_count": null,
   "metadata": {},
   "outputs": [],
   "source": []
  }
 ],
 "metadata": {
  "kernelspec": {
   "display_name": "Python 3",
   "language": "python",
   "name": "python3"
  },
  "language_info": {
   "codemirror_mode": {
    "name": "ipython",
    "version": 3
   },
   "file_extension": ".py",
   "mimetype": "text/x-python",
   "name": "python",
   "nbconvert_exporter": "python",
   "pygments_lexer": "ipython3",
   "version": "3.7.7"
  }
 },
 "nbformat": 4,
 "nbformat_minor": 4
}
